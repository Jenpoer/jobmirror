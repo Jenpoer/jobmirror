{
 "cells": [
  {
   "cell_type": "code",
   "execution_count": 78,
   "id": "53d76f60",
   "metadata": {},
   "outputs": [],
   "source": [
    "import os\n",
    "import glob\n",
    "\n",
    "from pyspark.sql import SparkSession\n",
    "from pyspark.sql.functions import col, expr, udf, explode, collect_list, array\n",
    "from pyspark.sql.types import StringType\n",
    "from pyspark.sql import functions as F\n",
    "\n",
    "from utils.mongodb_to_parquet import get_pyspark_session\n",
    "from utils.gdrive_utils import connect_to_gdrive, sync_gdrive_db_to_local\n",
    "\n",
    "from pyspark.sql.functions import udf\n",
    "from pyspark.sql.types import StructType, StructField, ArrayType, StringType, FloatType\n",
    "from rapidfuzz import process, fuzz\n",
    "\n",
    "import pandas as pd\n",
    "import matplotlib.pyplot as plt\n",
    "import seaborn as sns"
   ]
  },
  {
   "cell_type": "markdown",
   "id": "2495f74a",
   "metadata": {},
   "source": [
    "# Import data"
   ]
  },
  {
   "cell_type": "markdown",
   "id": "e56d7369",
   "metadata": {},
   "source": [
    "## Import parquet-ified resumes & JD"
   ]
  },
  {
   "cell_type": "code",
   "execution_count": 4,
   "id": "e720c5f7",
   "metadata": {},
   "outputs": [
    {
     "name": "stdout",
     "output_type": "stream",
     "text": [
      ":: loading settings :: url = jar:file:/usr/local/lib/python3.12/site-packages/pyspark/jars/ivy-2.5.1.jar!/org/apache/ivy/core/settings/ivysettings.xml\n"
     ]
    },
    {
     "name": "stderr",
     "output_type": "stream",
     "text": [
      "Ivy Default Cache set to: /root/.ivy2/cache\n",
      "The jars for the packages stored in: /root/.ivy2/jars\n",
      "org.mongodb.spark#mongo-spark-connector_2.12 added as a dependency\n",
      ":: resolving dependencies :: org.apache.spark#spark-submit-parent-c07026db-aa4d-47a3-b453-3e754e456a69;1.0\n",
      "\tconfs: [default]\n",
      "\tfound org.mongodb.spark#mongo-spark-connector_2.12;10.5.0 in central\n",
      "\tfound org.mongodb#mongodb-driver-sync;5.1.4 in central\n",
      "\t[5.1.4] org.mongodb#mongodb-driver-sync;[5.1.1,5.1.99)\n",
      "\tfound org.mongodb#bson;5.1.4 in central\n",
      "\tfound org.mongodb#mongodb-driver-core;5.1.4 in central\n",
      "\tfound org.mongodb#bson-record-codec;5.1.4 in central\n",
      ":: resolution report :: resolve 4431ms :: artifacts dl 22ms\n",
      "\t:: modules in use:\n",
      "\torg.mongodb#bson;5.1.4 from central in [default]\n",
      "\torg.mongodb#bson-record-codec;5.1.4 from central in [default]\n",
      "\torg.mongodb#mongodb-driver-core;5.1.4 from central in [default]\n",
      "\torg.mongodb#mongodb-driver-sync;5.1.4 from central in [default]\n",
      "\torg.mongodb.spark#mongo-spark-connector_2.12;10.5.0 from central in [default]\n",
      "\t---------------------------------------------------------------------\n",
      "\t|                  |            modules            ||   artifacts   |\n",
      "\t|       conf       | number| search|dwnlded|evicted|| number|dwnlded|\n",
      "\t---------------------------------------------------------------------\n",
      "\t|      default     |   5   |   1   |   0   |   0   ||   5   |   0   |\n",
      "\t---------------------------------------------------------------------\n",
      ":: retrieving :: org.apache.spark#spark-submit-parent-c07026db-aa4d-47a3-b453-3e754e456a69\n",
      "\tconfs: [default]\n",
      "\t0 artifacts copied, 5 already retrieved (0kB/15ms)\n",
      "25/06/15 05:23:21 WARN NativeCodeLoader: Unable to load native-hadoop library for your platform... using builtin-java classes where applicable\n",
      "Setting default log level to \"WARN\".\n",
      "To adjust logging level use sc.setLogLevel(newLevel). For SparkR, use setLogLevel(newLevel).\n"
     ]
    }
   ],
   "source": [
    "spark = get_pyspark_session()"
   ]
  },
  {
   "cell_type": "code",
   "execution_count": 2,
   "id": "659c039a",
   "metadata": {},
   "outputs": [],
   "source": [
    "def read_silver_table(table, silver_db, spark):\n",
    "    \"\"\"\n",
    "    Helper function to read all partitions of a silver table\n",
    "    \"\"\"\n",
    "    folder_path = os.path.join(silver_db, table)\n",
    "    files_list = [os.path.join(folder_path, os.path.basename(f)) for f in glob.glob(os.path.join(folder_path, '*'))]\n",
    "    df = spark.read.option(\"header\", \"true\").parquet(*files_list)\n",
    "    return df"
   ]
  },
  {
   "cell_type": "code",
   "execution_count": 5,
   "id": "504b7842",
   "metadata": {},
   "outputs": [
    {
     "name": "stderr",
     "output_type": "stream",
     "text": [
      "                                                                                \r"
     ]
    }
   ],
   "source": [
    "df_jd = read_silver_table('job_descriptions', 'datamart/silver', spark)\n",
    "df_resumes = read_silver_table('resumes', 'datamart/silver', spark)\n",
    "df_labels = read_silver_table('labels', 'datamart/silver', spark)"
   ]
  },
  {
   "cell_type": "code",
   "execution_count": 6,
   "id": "06bee010",
   "metadata": {},
   "outputs": [],
   "source": [
    "# Select relevant columns for skill processing\n",
    "df_resumes_skills = df_resumes.select('id', 'hard_skills', 'soft_skills') \n",
    "df_jd_skills = df_jd.select('id', 'required_hard_skills', 'required_soft_skills')"
   ]
  },
  {
   "cell_type": "code",
   "execution_count": 7,
   "id": "efbb4297",
   "metadata": {},
   "outputs": [],
   "source": [
    "# Convert to lowercase\n",
    "df_resumes_skills = df_resumes_skills.withColumn(\"hard_skills\", expr(\"transform(hard_skills, x -> lower(x))\"))\n",
    "df_resumes_skills = df_resumes_skills.withColumn(\"soft_skills\", expr(\"transform(soft_skills, x -> lower(x))\"))\n",
    "\n",
    "df_jd_skills = df_jd_skills.withColumn(\"hard_skills\", expr(\"transform(required_hard_skills, x -> lower(x))\"))\n",
    "df_jd_skills = df_jd_skills.withColumn(\"soft_skills\", expr(\"transform(required_soft_skills, x -> lower(x))\"))"
   ]
  },
  {
   "cell_type": "markdown",
   "id": "91f53e67",
   "metadata": {},
   "source": [
    "## Import skills list silver table"
   ]
  },
  {
   "cell_type": "code",
   "execution_count": 76,
   "id": "a07173f0",
   "metadata": {},
   "outputs": [
    {
     "name": "stderr",
     "output_type": "stream",
     "text": [
      "Downloading data files...: 100%|██████████| 6/6 [00:15<00:00,  2.62s/it]"
     ]
    },
    {
     "name": "stdout",
     "output_type": "stream",
     "text": [
      "Download complete.\n"
     ]
    },
    {
     "name": "stderr",
     "output_type": "stream",
     "text": [
      "\n"
     ]
    }
   ],
   "source": [
    "sync_gdrive_db_to_local()"
   ]
  },
  {
   "cell_type": "markdown",
   "id": "d187a8cc",
   "metadata": {},
   "source": [
    "# Skills Standardization"
   ]
  },
  {
   "cell_type": "code",
   "execution_count": 8,
   "id": "340b995c",
   "metadata": {},
   "outputs": [
    {
     "name": "stdout",
     "output_type": "stream",
     "text": [
      "+----------+--------------------+--------------------+\n",
      "|keyword_id|             keyword|             example|\n",
      "+----------+--------------------+--------------------+\n",
      "|  43232202|document manageme...|adobe systems ado...|\n",
      "|  43232306|data base user in...|     adsense tracker|\n",
      "|  43232201|content workflow ...|      atlassian jira|\n",
      "|  43232303|customer relation...|blackbaud the rai...|\n",
      "|  43231601| accounting software|computerease cons...|\n",
      "|  43232305|data base reporti...|database reportin...|\n",
      "|  43232306|data base user in...|             databox|\n",
      "|  43233501|electronic mail s...|      email software|\n",
      "|  43231602|enterprise resour...|enterprise resour...|\n",
      "|  43231605|time accounting s...|exact software ma...|\n",
      "|  43232403|enterprise applic...|extensible markup...|\n",
      "|  43231601| accounting software|fund accounting s...|\n",
      "|  43232102|graphics or photo...|graphic presentat...|\n",
      "|  43231505|human resources s...|        halogen e360|\n",
      "|  43231505|human resources s...|    halogen epraisal|\n",
      "|  43231507|project managemen...|       hcss heavybid|\n",
      "|  43231507|project managemen...|       hcss heavyjob|\n",
      "|  43231505|human resources s...|human resource in...|\n",
      "|  43231505|human resources s...|infor ssa human c...|\n",
      "|  43231601| accounting software|   intuit quickbooks|\n",
      "+----------+--------------------+--------------------+\n",
      "only showing top 20 rows\n",
      "\n"
     ]
    }
   ],
   "source": [
    "df_hard_skills_keywords = read_silver_table('hardskill', 'datamart/silver', spark)\n",
    "df_hard_skills_keywords.show()"
   ]
  },
  {
   "cell_type": "code",
   "execution_count": null,
   "id": "618e0c50",
   "metadata": {},
   "outputs": [
    {
     "name": "stdout",
     "output_type": "stream",
     "text": [
      "+----------+--------------------+--------------------+\n",
      "|keyword_id|             keyword|            examples|\n",
      "+----------+--------------------+--------------------+\n",
      "|   2.a.1.a|reading comprehen...| getting information|\n",
      "|   2.a.1.a|reading comprehen...|monitor processes...|\n",
      "|   2.a.1.a|reading comprehen...|identifying objec...|\n",
      "|   2.a.1.a|reading comprehen...|judging the quali...|\n",
      "|   2.a.1.a|reading comprehen...|processing inform...|\n",
      "|   2.a.1.a|reading comprehen...|evaluating inform...|\n",
      "|   2.a.1.a|reading comprehen...|analyzing data or...|\n",
      "|   2.a.1.a|reading comprehen...|making decisions ...|\n",
      "|   2.a.1.a|reading comprehen...|updating and usin...|\n",
      "|   2.a.1.a|reading comprehen...|interacting with ...|\n",
      "|   2.a.1.a|reading comprehen...|drafting, laying ...|\n",
      "|   2.a.1.a|reading comprehen...|interpreting the ...|\n",
      "|   2.a.1.a|reading comprehen...|training and teac...|\n",
      "|   2.a.1.a|reading comprehen...|provide consultat...|\n",
      "|   2.a.1.a|reading comprehen...|performing admini...|\n",
      "|   2.a.1.a|reading comprehen...| getting information|\n",
      "|   2.a.1.a|reading comprehen...|monitor processes...|\n",
      "|   2.a.1.a|reading comprehen...|identifying objec...|\n",
      "|   2.a.1.a|reading comprehen...|judging the quali...|\n",
      "|   2.a.1.a|reading comprehen...|processing inform...|\n",
      "+----------+--------------------+--------------------+\n",
      "only showing top 20 rows\n",
      "\n"
     ]
    }
   ],
   "source": [
    "# df_soft_skills_keywords = read_silver_table('softskill', 'datamart/silver', spark)\n",
    "# df_soft_skills_keywords.show()"
   ]
  },
  {
   "cell_type": "markdown",
   "id": "bdf0fb0c",
   "metadata": {},
   "source": [
    "## Fuzzy Matching"
   ]
  },
  {
   "cell_type": "code",
   "execution_count": 79,
   "id": "d08e44ce",
   "metadata": {},
   "outputs": [],
   "source": [
    "# df_resumes_skills = df_resumes_skills.withColumnRenamed(\"id\", \"resume_id\")\n",
    "# df_jd_skills = df_jd_skills.withColumnRenamed(\"id\", \"job_id\")\n",
    "# df_joined = df_labels.join(df_resumes_skills, on=\"resume_id\", how=\"inner\") \n",
    "# df_joined = df_joined.join(df_jd_skills, on=\"job_id\", how=\"inner\")\n",
    "# df_joined.show()"
   ]
  },
  {
   "cell_type": "code",
   "execution_count": 9,
   "id": "18efd78c",
   "metadata": {},
   "outputs": [],
   "source": [
    "def fuzzy_match_array_udf_factory(mapping_dict):\n",
    "    def match_array(arr):\n",
    "        keyword_matches = []\n",
    "        example_matches = []\n",
    "        scores = []\n",
    "\n",
    "        reference_values = list(mapping_dict.keys())\n",
    "        reference_categories = list(mapping_dict.values())\n",
    "        \n",
    "        if arr:\n",
    "            for x in arr:\n",
    "                if x:\n",
    "                    match = process.extractOne(x, reference_values, scorer=fuzz.token_set_ratio)\n",
    "                    score = float(match[1])\n",
    "                    if match and score > 80:\n",
    "                        example_matches.append(match[0])\n",
    "                        keyword_matches.append(mapping_dict[match[0]])\n",
    "                        scores.append(score)  # similarity score as float\n",
    "                    else:\n",
    "                        match = process.extractOne(x, reference_categories, scorer=fuzz.token_set_ratio)\n",
    "                        score = float(match[1])\n",
    "                        if match and score > 80:\n",
    "                            example_matches.append(None)\n",
    "                            keyword_matches.append(match[0])\n",
    "                            scores.append(score)\n",
    "                        else:\n",
    "                            example_matches.append(None)\n",
    "                            keyword_matches.append(None)\n",
    "                            scores.append(None)\n",
    "                else:\n",
    "                    keyword_matches.append(None)\n",
    "                    example_matches.append(None)\n",
    "                    scores.append(None)\n",
    "            return keyword_matches, example_matches, scores\n",
    "        return None\n",
    "    \n",
    "    schema = StructType([\n",
    "        StructField(\"keyword_matches\", ArrayType(StringType()), nullable=True),\n",
    "        StructField(\"example_matches\", ArrayType(StringType()), nullable=True),\n",
    "        StructField(\"scores\", ArrayType(FloatType()), nullable=True)\n",
    "    ])\n",
    "    \n",
    "    return udf(match_array, schema)\n"
   ]
  },
  {
   "cell_type": "code",
   "execution_count": null,
   "id": "adb07ee4",
   "metadata": {},
   "outputs": [],
   "source": [
    "# import math\n",
    "\n",
    "# def fuzzy_match_array_udf_factory(reference_values):\n",
    "#     counts = Counter(reference_values)\n",
    "#     weighted_choices = [(k, int(v)) for k, v in counts.items()]\n",
    "\n",
    "#     max_weight = counts.most_common(1)[0][1]\n",
    "\n",
    "#     def match_array(arr):\n",
    "#         matches = []\n",
    "#         scores = []\n",
    "        \n",
    "#         if arr:\n",
    "#             for item in arr:\n",
    "#                 best_match = None\n",
    "#                 best_score = -1.0\n",
    "#                 best_original_score = -1.0\n",
    "#                 if item:\n",
    "#                     for ref, weight in weighted_choices:\n",
    "#                         original_score = fuzz.ratio(item, ref)\n",
    "#                         score = fuzz.ratio(item, ref) + math.log(weight)\n",
    "#                         if score > best_score:\n",
    "#                             best_score = score\n",
    "#                             best_original_score = original_score\n",
    "#                             best_match = ref\n",
    "#                 matches.append(best_match)\n",
    "#                 scores.append(best_original_score)\n",
    "#             return matches, scores\n",
    "#         return None\n",
    "    \n",
    "#     schema = StructType([\n",
    "#         StructField(\"matches\", ArrayType(StringType()), nullable=True),\n",
    "#         StructField(\"scores\", ArrayType(FloatType()), nullable=True)\n",
    "#     ])\n",
    "    \n",
    "#     return udf(match_array, schema)\n"
   ]
  },
  {
   "cell_type": "markdown",
   "id": "39ff4fc5",
   "metadata": {},
   "source": [
    "### Hard skills convert to keywords"
   ]
  },
  {
   "cell_type": "markdown",
   "id": "2d1f14fb",
   "metadata": {},
   "source": [
    "**Standardize Resume**"
   ]
  },
  {
   "cell_type": "code",
   "execution_count": 10,
   "id": "4482be0e",
   "metadata": {},
   "outputs": [
    {
     "name": "stderr",
     "output_type": "stream",
     "text": [
      "[Stage 6:>                                                          (0 + 1) / 1]\r"
     ]
    },
    {
     "name": "stdout",
     "output_type": "stream",
     "text": [
      "+------------+--------------------+--------------------+--------------------+------------------------+-----------------------------+\n",
      "|          id|         hard_skills|         soft_skills|hard_skills_category|hard_skills_standardized|hard_skills_similarity_scores|\n",
      "+------------+--------------------+--------------------+--------------------+------------------------+-----------------------------+\n",
      "|RES_s93wTCLp|[atm, c++, ccna, ...|[clients, procure...|[NULL, object or ...|    [NULL, c++, NULL,...|         [NULL, 100.0, NUL...|\n",
      "|RES_Z7yf1tu6|[sql, pl/sql, tra...|[communication, t...|[data base user i...|    [structured query...|         [100.0, 100.0, 10...|\n",
      "|RES_hAp1XnJZ|[database design,...|[excellent commun...|[data base manage...|    [database design ...|         [100.0, NULL, NUL...|\n",
      "|RES_zsgGxd2s|[microsoft access...|[collaboration, c...|[data base user i...|    [microsoft access...|         [100.0, 100.0, NU...|\n",
      "|RES_RrDNNvMz|[r, sql, data ana...|[innovative, deta...|[object or compon...|    [r, structured qu...|         [100.0, 100.0, 10...|\n",
      "|RES_7rYoKTcb|[matlab, simulink...|[communication, t...|[analytical or sc...|    [the mathworks ma...|         [100.0, 100.0, 86...|\n",
      "|RES_dI74kKQw|[html, html5, css...|[project leadersh...|[web platform dev...|    [hypertext markup...|         [100.0, 100.0, 10...|\n",
      "|RES_AAwaK8NY|[financial planni...|[communication, p...|[financial analys...|    [financial planni...|         [100.0, 100.0, 10...|\n",
      "|RES_jxAmUMgn|[java, javascript...|[account manageme...|[object or compon...|    [oracle java, jav...|         [100.0, 100.0, 10...|\n",
      "|RES_fTYeywv1|[sap, as400, cams...|[managing, counse...|[enterprise resou...|    [sap, NULL, NULL,...|         [100.0, NULL, NUL...|\n",
      "|RES_ZZpNAyeK|[python 3.x, r, s...|[strong decision-...|[object or compon...|    [python, r, struc...|         [100.0, 100.0, 10...|\n",
      "|RES_l7IXSfv7|[python, r, table...|[excellent commun...|[object or compon...|    [python, r, table...|         [100.0, 100.0, 10...|\n",
      "|RES_vwWeZTDF|[microsoft word, ...|[communication, t...|[word processing ...|    [microsoft word, ...|         [100.0, 100.0, 10...|\n",
      "|RES_kL06mNvW|[sql, python, jup...|[automation, clie...|[data base user i...|    [structured query...|         [100.0, 100.0, 10...|\n",
      "|RES_gLmc70sy|[order processing...|[time management,...|[NULL, spreadshee...|    [NULL, restaurant...|         [NULL, 100.0, 100...|\n",
      "|RES_iFHwzwmT|[data modelling, ...|[detail-oriented,...|[NULL, analytical...|    [NULL, business a...|         [NULL, 100.0, 100...|\n",
      "|RES_WEgsEJYj|[java, c, c++, xm...|[interpersonal sk...|[object or compon...|    [oracle java, c, ...|         [100.0, 100.0, 10...|\n",
      "|RES_JgJdoXyt|[sql, pl/sql, t-s...|[communication, t...|[data base user i...|    [structured query...|         [100.0, 100.0, 10...|\n",
      "|RES_EZITWfdb|[j2ee, spring, sp...|[documentation, m...|[development envi...|    [oracle java 2 pl...|         [100.0, 100.0, 10...|\n",
      "|RES_fqhdZazg|[c#, php, asp.net...|[professional, cr...|[object or compon...|    [c#, hypertext pr...|         [100.0, 100.0, 10...|\n",
      "+------------+--------------------+--------------------+--------------------+------------------------+-----------------------------+\n",
      "only showing top 20 rows\n",
      "\n"
     ]
    },
    {
     "name": "stderr",
     "output_type": "stream",
     "text": [
      "                                                                                \r"
     ]
    }
   ],
   "source": [
    "mapping_dict = dict(df_hard_skills_keywords.rdd.map(lambda row: (row['example'], row['keyword'])).collect())\n",
    "\n",
    "fuzzy_match_udf = fuzzy_match_array_udf_factory(mapping_dict)\n",
    "\n",
    "df_matched_resume = df_resumes_skills.withColumn(\"hard_skills_fuzzy\", fuzzy_match_udf(\"hard_skills\"))\n",
    "\n",
    "df_matched_resume = df_matched_resume \\\n",
    "    .withColumn(\"hard_skills_category\", df_matched_resume[\"hard_skills_fuzzy\"][\"keyword_matches\"]) \\\n",
    "    .withColumn(\"hard_skills_standardized\", df_matched_resume[\"hard_skills_fuzzy\"][\"example_matches\"]) \\\n",
    "    .withColumn(\"hard_skills_similarity_scores\", df_matched_resume[\"hard_skills_fuzzy\"][\"scores\"]) \\\n",
    "    .drop(\"hard_skills_fuzzy\")\n",
    "\n",
    "df_matched_resume.show()"
   ]
  },
  {
   "cell_type": "code",
   "execution_count": 10,
   "id": "6a49a33b",
   "metadata": {},
   "outputs": [
    {
     "name": "stderr",
     "output_type": "stream",
     "text": [
      "                                                                                \r"
     ]
    }
   ],
   "source": [
    "df_matched_resume.write.parquet(\"datamart/temp/df_matched_resume.parquet\")"
   ]
  },
  {
   "cell_type": "markdown",
   "id": "e41c0c93",
   "metadata": {},
   "source": [
    "**Standardize JD**"
   ]
  },
  {
   "cell_type": "code",
   "execution_count": 11,
   "id": "d989a58c",
   "metadata": {},
   "outputs": [
    {
     "name": "stderr",
     "output_type": "stream",
     "text": [
      "[Stage 8:>                                                          (0 + 1) / 1]\r"
     ]
    },
    {
     "name": "stdout",
     "output_type": "stream",
     "text": [
      "+-----------+--------------------+--------------------+--------------------+--------------------+--------------------+------------------------+-----------------------------+\n",
      "|         id|required_hard_skills|required_soft_skills|         hard_skills|         soft_skills|hard_skills_category|hard_skills_standardized|hard_skills_similarity_scores|\n",
      "+-----------+--------------------+--------------------+--------------------+--------------------+--------------------+------------------------+-----------------------------+\n",
      "|JD_kQiZZseA|[Data Quality Mod...|[Working with Mat...|[data quality mod...|[working with mat...|[NULL, data base ...|    [NULL, structured...|         [NULL, 100.0, NUL...|\n",
      "|JD_Xr9WwV9E|[Java, J2EE, Spri...|[Communication, T...|[java, j2ee, spri...|[communication, t...|[object or compon...|    [oracle java, ora...|         [100.0, 100.0, 10...|\n",
      "|JD_NP2XGlwL|[MS Excel (includ...|[Detail-oriented,...|[ms excel (includ...|[detail-oriented,...|[NULL, data minin...|    [NULL, bing for p...|         [NULL, 100.0, 100...|\n",
      "|JD_elwO4tge|[SQL, System Repo...|[Excellent commun...|[sql, system repo...|[excellent commun...|[data base user i...|    [structured query...|         [100.0, NULL, NUL...|\n",
      "|JD_UOB0bu87|[Salesforce, Sale...|[Communication, L...|[salesforce, sale...|[communication, l...|[customer relatio...|    [salesforce softw...|         [100.0, 100.0, NU...|\n",
      "|JD_o9s6CHcs|[Accounting softw...|[Strong written a...|[accounting softw...|[strong written a...|[accounting softw...|          [tax software]|                      [100.0]|\n",
      "|JD_RqYGEkI5|[.NET, C#, SQL, T...|[Problem solving,...|[.net, c#, sql, t...|[problem solving,...|[development envi...|    [microsoft .net f...|         [100.0, 100.0, 10...|\n",
      "|JD_D2y52GDk|[MS Excel (includ...|[Detail oriented,...|[ms excel (includ...|[detail oriented,...|[NULL, data minin...|    [NULL, bing for p...|         [NULL, 100.0, 100...|\n",
      "|JD_cX9hlE8T|[Software develop...|[Communication, O...|[software develop...|[communication, o...|[development envi...|    [software develop...|         [86.95652, 100.0,...|\n",
      "|JD_hiUUeDTD|[Python, SQL, Uni...|                  []|[python, sql, uni...|                  []|[object or compon...|    [python, structur...|         [100.0, 100.0, NU...|\n",
      "|JD_RHbkFnRR|[Accounting proce...|[Communication, P...|[accounting proce...|[communication, p...|[NULL, NULL, fina...|    [NULL, NULL, fina...|         [NULL, NULL, 87.8...|\n",
      "|JD_aoARUysn|[Requirements gat...|[Leadership, Coll...|[requirements gat...|[leadership, coll...|[NULL, requiremen...|    [NULL, requiremen...|         [NULL, 86.206894,...|\n",
      "|JD_SEZk0Xam|[Salesforce, Sale...|                  []|[salesforce, sale...|                  []|[customer relatio...|    [salesforce softw...|         [100.0, 100.0, 10...|\n",
      "|JD_79x6Y6Y7|[Agile Scrum, JIR...|[Facilitating exe...|[agile scrum, jir...|[facilitating exe...|[NULL, content wo...|    [NULL, atlassian ...|         [NULL, 100.0, 84....|\n",
      "|JD_YVgS3nQ1|[Advanced Excel, ...|[Communication, T...|[advanced excel, ...|[communication, t...|[NULL, NULL, ente...|    [NULL, NULL, plex...|         [NULL, NULL, 91.3...|\n",
      "|JD_kMu62cAy|[Salesforce, Decl...|                  []|[salesforce, decl...|                  []|[customer relatio...|    [salesforce softw...|         [100.0, NULL, NUL...|\n",
      "|JD_hp86QYh2|[Machine Learning...|     [Communication]|[machine learning...|     [communication]|[NULL, medical so...|    [NULL, computer a...|         [NULL, 100.0, NUL...|\n",
      "|JD_Q2mimCBR|[SQL, Snowflake, ...|[Communication, C...|[sql, snowflake, ...|[communication, c...|[data base user i...|    [structured query...|         [100.0, NULL, 100...|\n",
      "|JD_snhc1K5J|[Data Quality Mod...|[Data Analysis, W...|[data quality mod...|[data analysis, w...|[NULL, data base ...|    [NULL, structured...|         [NULL, 100.0, NUL...|\n",
      "|JD_k0HfVZeK|        [Salesforce]|                  []|        [salesforce]|                  []|[customer relatio...|    [salesforce softw...|                      [100.0]|\n",
      "+-----------+--------------------+--------------------+--------------------+--------------------+--------------------+------------------------+-----------------------------+\n",
      "only showing top 20 rows\n",
      "\n"
     ]
    },
    {
     "name": "stderr",
     "output_type": "stream",
     "text": [
      "                                                                                \r"
     ]
    }
   ],
   "source": [
    "mapping_dict = dict(df_hard_skills_keywords.rdd.map(lambda row: (row['example'], row['keyword'])).collect())\n",
    "\n",
    "fuzzy_match_udf = fuzzy_match_array_udf_factory(mapping_dict)\n",
    "\n",
    "df_matched_jd = df_jd_skills.withColumn(\"hard_skills_fuzzy\", fuzzy_match_udf(\"hard_skills\"))\n",
    "\n",
    "df_matched_jd = df_matched_jd \\\n",
    "    .withColumn(\"hard_skills_category\", df_matched_jd[\"hard_skills_fuzzy\"][\"keyword_matches\"]) \\\n",
    "    .withColumn(\"hard_skills_standardized\", df_matched_jd[\"hard_skills_fuzzy\"][\"example_matches\"]) \\\n",
    "    .withColumn(\"hard_skills_similarity_scores\", df_matched_jd[\"hard_skills_fuzzy\"][\"scores\"]) \\\n",
    "    .drop(\"hard_skills_fuzzy\")\n",
    "\n",
    "df_matched_jd.show()"
   ]
  },
  {
   "cell_type": "code",
   "execution_count": 12,
   "id": "852e1e6f",
   "metadata": {},
   "outputs": [
    {
     "name": "stderr",
     "output_type": "stream",
     "text": [
      "                                                                                \r"
     ]
    }
   ],
   "source": [
    "df_matched_jd.write.parquet(\"datamart/temp/df_matched_jd.parquet\")"
   ]
  },
  {
   "cell_type": "code",
   "execution_count": 84,
   "id": "59991a08",
   "metadata": {},
   "outputs": [],
   "source": [
    "\n",
    "# # reference_list = [\"java\", \"python\", \"sql\", \"machine learning\"]\n",
    "\n",
    "# # def fuzzy_match_array_udf_factory(reference_values):\n",
    "# #     def match_array(arr):\n",
    "# #         if arr:\n",
    "# #             # For each element, find the best fuzzy match in reference_values\n",
    "# #             return [process.extractOne(x, reference_values)[0] if x else None for x in arr]\n",
    "# #         return None\n",
    "# #     return udf(match_array, ArrayType(StringType()))\n",
    "\n",
    "\n",
    "# # Only the match\n",
    "# # def fuzzy_match_array_udf_factory():\n",
    "# #     def match_array(arr1, arr2):\n",
    "# #         if arr1 and arr2:\n",
    "# #             return [\n",
    "# #                 process.extractOne(x, arr2)[0] if x else None\n",
    "# #                 for x in arr1\n",
    "# #             ]\n",
    "# #         return None\n",
    "# #     return udf(match_array, ArrayType(StringType()))\n",
    "\n",
    "# # Match and score\n",
    "# def fuzzy_match_array_udf_factory():\n",
    "#     def match_array(arr1, arr2):\n",
    "#         if arr1 and arr2:\n",
    "#             matches = []\n",
    "#             scores = []\n",
    "#             for x in arr1:\n",
    "#                 if x:\n",
    "#                     match = process.extractOne(x, arr2)\n",
    "#                     if match:\n",
    "#                         matches.append(match[0])\n",
    "#                         scores.append(float(match[1]))  # similarity score as float\n",
    "#                     else:\n",
    "#                         matches.append(None)\n",
    "#                         scores.append(None)\n",
    "#                 else:\n",
    "#                     matches.append(None)\n",
    "#                     scores.append(None)\n",
    "#             return matches, scores\n",
    "#         return None, None\n",
    "    \n",
    "#     schema = StructType([\n",
    "#         StructField(\"matches\", ArrayType(StringType()), nullable=True),\n",
    "#         StructField(\"scores\", ArrayType(FloatType()), nullable=True)\n",
    "#     ])\n",
    "#     return udf(match_array, schema)\n",
    "\n",
    "\n",
    "# fuzzy_match_udf = fuzzy_match_array_udf_factory()\n",
    "\n",
    "# df_matched = df_joined.withColumn(\"hard_skills_fuzzy\", fuzzy_match_udf(\"hard_skills\", \"required_hard_skills\"))\n",
    "\n",
    "# df_matched = df_matched \\\n",
    "#     .withColumn(\"hard_skills_matched\", df_matched[\"hard_skills_fuzzy\"][\"matches\"]) \\\n",
    "#     .withColumn(\"hard_skills_similarity_scores\", df_matched[\"hard_skills_fuzzy\"][\"scores\"]) \\\n",
    "#     .drop(\"hard_skills_fuzzy\")\n",
    "\n",
    "# df_matched.show()\n"
   ]
  },
  {
   "cell_type": "code",
   "execution_count": 12,
   "id": "5d71a587",
   "metadata": {},
   "outputs": [
    {
     "name": "stdout",
     "output_type": "stream",
     "text": [
      "Original skill: mssql, Matched category: None, Keyword: None, Score: None\n",
      "Original skill: c#, Matched category: object or component oriented development software, Keyword: c#, Score: 100.0\n",
      "Original skill: asp.net mvc, Matched category: web platform development software, Keyword: microsoft asp.net core mvc, Score: 100.0\n",
      "Original skill: web api, Matched category: None, Keyword: None, Score: None\n",
      "Original skill: entity framework, Matched category: None, Keyword: None, Score: None\n",
      "Original skill: ado.net, Matched category: data base user interface and query software, Keyword: ado.net, Score: 100.0\n",
      "Original skill: test driven development, Matched category: None, Keyword: None, Score: None\n",
      "Original skill: domain driven design, Matched category: None, Keyword: None, Score: None\n",
      "Original skill: n tier architecture, Matched category: None, Keyword: None, Score: None\n",
      "Original skill: sql server, Matched category: data base user interface and query software, Keyword: microsoft sql server, Score: 100.0\n",
      "Original skill: php, Matched category: web platform development software, Keyword: hypertext preprocessor php, Score: 100.0\n",
      "Original skill: mysql, Matched category: data base user interface and query software, Keyword: mysql, Score: 100.0\n",
      "Original skill: xml, Matched category: enterprise application integration software, Keyword: extensible markup language xml, Score: 100.0\n",
      "Original skill: xslt, Matched category: web platform development software, Keyword: extensible stylesheet language transformations xslt, Score: 100.0\n"
     ]
    }
   ],
   "source": [
    "row = df_matched_resume.filter(df_matched_resume.id == \"RES_AWfs9B9f\").first().asDict()\n",
    "for skill, category, keyword, score in zip(row['hard_skills'],\n",
    "                        row['hard_skills_category'], \n",
    "                        row['hard_skills_standardized'],\n",
    "                        row['hard_skills_similarity_scores']):\n",
    "    print(f\"Original skill: {skill}, Matched category: {category}, Keyword: {keyword}, Score: {score}\"  )"
   ]
  },
  {
   "cell_type": "code",
   "execution_count": 13,
   "id": "c901ce73",
   "metadata": {},
   "outputs": [
    {
     "name": "stdout",
     "output_type": "stream",
     "text": [
      "Original skill: php, Matched category: web platform development software, Keyword: hypertext preprocessor php, Score: 100.0\n",
      "Original skill: cms systems (wordpress, drupal, shopify, squarespace, joomla), Matched category: None, Keyword: None, Score: None\n",
      "Original skill: php frameworks (slim, laravel, symfony), Matched category: None, Keyword: None, Score: None\n",
      "Original skill: javascript/node, Matched category: None, Keyword: None, Score: None\n",
      "Original skill: javascript frameworks (react/react native, sencha, vue.js), Matched category: web platform development software, Keyword: javascript, Score: 100.0\n",
      "Original skill: relational databases (mysql), Matched category: None, Keyword: None, Score: None\n",
      "Original skill: nosql databases (mongodb), Matched category: data base management system software, Keyword: nosql, Score: 100.0\n",
      "Original skill: key-value databases (redis), Matched category: None, Keyword: None, Score: None\n",
      "Original skill: api development, Matched category: development environment software, Keyword: integrated development environment ide software, Score: 84.61538696289062\n",
      "Original skill: restful apis, Matched category: None, Keyword: None, Score: None\n",
      "Original skill: oauth2/jwt tokens, Matched category: None, Keyword: None, Score: None\n",
      "Original skill: html5, Matched category: web platform development software, Keyword: html5, Score: 100.0\n",
      "Original skill: css3, Matched category: None, Keyword: None, Score: None\n",
      "Original skill: babel, Matched category: None, Keyword: None, Score: None\n",
      "Original skill: webpack, Matched category: None, Keyword: None, Score: None\n",
      "Original skill: typescript, Matched category: None, Keyword: None, Score: None\n",
      "Original skill: less/sass, Matched category: None, Keyword: None, Score: None\n",
      "Original skill: git/mercurial/svn, Matched category: None, Keyword: None, Score: None\n",
      "Original skill: docker, Matched category: application server software, Keyword: docker, Score: 100.0\n",
      "Original skill: containerization, Matched category: None, Keyword: None, Score: None\n",
      "Original skill: unit testing, Matched category: program testing software, Keyword: unit testing software, Score: 100.0\n",
      "Original skill: integration testing, Matched category: program testing software, Keyword: integration testing software, Score: 100.0\n",
      "Original skill: end-to-end testing, Matched category: None, Keyword: None, Score: None\n",
      "Original skill: testing frameworks (phpunit, jest, mocha), Matched category: None, Keyword: None, Score: None\n",
      "Original skill: atlassian suite (jira, confluence, bitbucket), Matched category: None, Keyword: None, Score: None\n"
     ]
    },
    {
     "name": "stderr",
     "output_type": "stream",
     "text": [
      "                                                                                \r"
     ]
    }
   ],
   "source": [
    "row = df_matched_jd.filter(df_matched_jd.id == \"JD_AWfs9B9f\").first().asDict()\n",
    "for skill, category, keyword, score in zip(row['hard_skills'],\n",
    "                        row['hard_skills_category'], \n",
    "                        row['hard_skills_standardized'],\n",
    "                        row['hard_skills_similarity_scores']):\n",
    "    print(f\"Original skill: {skill}, Matched category: {category}, Keyword: {keyword}, Score: {score}\"  )"
   ]
  },
  {
   "cell_type": "markdown",
   "id": "cc062ac9",
   "metadata": {},
   "source": [
    "### Soft skills convert to keywords"
   ]
  },
  {
   "cell_type": "code",
   "execution_count": null,
   "id": "9eee0d10",
   "metadata": {},
   "outputs": [
    {
     "name": "stdout",
     "output_type": "stream",
     "text": [
      "+------------+--------------------+--------------------+--------------------+-----------------------------+\n",
      "|          id|         hard_skills|         soft_skills| soft_skills_matched|soft_skills_similarity_scores|\n",
      "+------------+--------------------+--------------------+--------------------+-----------------------------+\n",
      "|RES_s93wTCLp|[atm, c++, ccna, ...|[clients, procure...|[active listening...|         [43.47826, 38.461...|\n",
      "|RES_Z7yf1tu6|[sql, pl/sql, tra...|[communication, t...|[coordination, sp...|         [64.0, 37.5, 40.0...|\n",
      "|RES_hAp1XnJZ|[database design,...|[excellent commun...|[service orientat...|         [44.89796, 48.780...|\n",
      "|RES_zsgGxd2s|[microsoft access...|[collaboration, c...|[coordination, se...|         [72.0, 60.869564,...|\n",
      "|RES_RrDNNvMz|[r, sql, data ana...|[innovative, deta...|[service orientat...|         [48.275864, 47.05...|\n",
      "|RES_7rYoKTcb|[matlab, simulink...|[communication, t...|[coordination, sp...|         [64.0, 37.5, 40.0...|\n",
      "|RES_dI74kKQw|[html, html5, css...|[project leadersh...|[judgment and dec...|         [39.130436, 100.0...|\n",
      "|RES_AAwaK8NY|[financial planni...|[communication, p...|[coordination, co...|         [64.0, 100.0, 66....|\n",
      "|RES_jxAmUMgn|[java, javascript...|[account manageme...|[time management,...|         [80.0, 40.0, 34.7...|\n",
      "|RES_fTYeywv1|[sap, as400, cams...|[managing, counse...|[monitoring, spea...|         [55.555557, 55.55...|\n",
      "|RES_ZZpNAyeK|[python 3.x, r, s...|[strong decision-...|[judgment and dec...|         [53.061226, 38.80...|\n",
      "|RES_l7IXSfv7|[python, r, table...|[excellent commun...|[service orientat...|         [44.89796, 62.068...|\n",
      "|RES_vwWeZTDF|[microsoft word, ...|[communication, t...|[coordination, sp...|         [64.0, 37.5, 40.0...|\n",
      "|RES_kL06mNvW|[sql, python, jup...|[automation, clie...|[negotiation, tim...|         [57.142857, 81.25...|\n",
      "|RES_gLmc70sy|[order processing...|[time management,...|[time management,...|         [100.0, 44.89796,...|\n",
      "|RES_iFHwzwmT|[data modelling, ...|[detail-oriented,...|[service orientat...|         [47.058823, 52.83...|\n",
      "|RES_WEgsEJYj|[java, c, c++, xm...|[interpersonal sk...|[persuasion, writ...|         [46.666668, 52.63...|\n",
      "|RES_JgJdoXyt|[sql, pl/sql, t-s...|[communication, t...|[coordination, sp...|         [64.0, 37.5, 40.0...|\n",
      "|RES_EZITWfdb|[j2ee, spring, sp...|[documentation, m...|[negotiation, mon...|         [58.333332, 55.55...|\n",
      "|RES_fqhdZazg|[c#, php, asp.net...|[professional, cr...|[persuasion, serv...|         [63.636364, 51.85...|\n",
      "+------------+--------------------+--------------------+--------------------+-----------------------------+\n",
      "only showing top 20 rows\n",
      "\n"
     ]
    }
   ],
   "source": [
    "# soft_skills_ref = df_soft_skills_keywords.select(\"keyword\").dropDuplicates().rdd.flatMap(lambda x: x).collect()\n",
    "\n",
    "# fuzzy_match_udf = fuzzy_match_array_udf_factory(soft_skills_ref)\n",
    "\n",
    "# df_matched_soft = df_resumes_skills.withColumn(\"soft_skills_fuzzy\", fuzzy_match_udf(\"soft_skills\"))\n",
    "\n",
    "# df_matched_soft = df_matched_soft \\\n",
    "#     .withColumn(\"soft_skills_matched\", df_matched_soft[\"soft_skills_fuzzy\"][\"matches\"]) \\\n",
    "#     .withColumn(\"soft_skills_similarity_scores\", df_matched_soft[\"soft_skills_fuzzy\"][\"scores\"]) \\\n",
    "#     .drop(\"soft_skills_fuzzy\")\n",
    "\n",
    "# df_matched_soft.show()"
   ]
  },
  {
   "cell_type": "code",
   "execution_count": null,
   "id": "20919287",
   "metadata": {},
   "outputs": [
    {
     "name": "stdout",
     "output_type": "stream",
     "text": [
      "Original skill: communication, Matched word: coordination, Score: 64.0\n",
      "Original skill: teamwork, Matched word: speaking, Score: 37.5\n",
      "Original skill: leadership, Matched word: active learning, Score: 40.0\n",
      "Original skill: problem-solving, Matched word: complex problem solving, Score: 73.68421173095703\n",
      "Original skill: analytical skills, Matched word: critical thinking, Score: 47.05882263183594\n",
      "Original skill: project management, Matched word: time management, Score: 80.0\n",
      "Original skill: client handling, Matched word: active learning, Score: 60.0\n",
      "Original skill: written communication skills, Matched word: service orientation, Score: 51.0638313293457\n"
     ]
    }
   ],
   "source": [
    "# row = df_matched_soft.filter(df_matched_soft.id == \"RES_mSxlSENu\").first().asDict()\n",
    "# for skill, match, score in zip(row['soft_skills'],\n",
    "#                         row['soft_skills_matched'], \n",
    "#                         row['soft_skills_similarity_scores']):\n",
    "#     print(f\"Original skill: {skill}, Matched word: {match}, Score: {score}\"  )"
   ]
  },
  {
   "cell_type": "markdown",
   "id": "a36b3bd4",
   "metadata": {},
   "source": [
    "## Embedding"
   ]
  },
  {
   "cell_type": "code",
   "execution_count": null,
   "id": "db72762d",
   "metadata": {},
   "outputs": [],
   "source": [
    "# from langchain_core.vectorstores import InMemoryVectorStore\n",
    "# from langchain_mistralai import MistralAIEmbeddings\n",
    "\n",
    "# def embed_match_array_udf_factory(keywords_list):\n",
    "#     def match_array(arr):\n",
    "#         embeddings = MistralAIEmbeddings(model=\"mistral-embed\")\n",
    "   \n",
    "#         vectorstore = InMemoryVectorStore.from_texts(\n",
    "#             keywords_list,\n",
    "#             embedding=embeddings\n",
    "#         )\n",
    "        \n",
    "#         if arr:\n",
    "#             matches = []\n",
    "#             scores = []\n",
    "\n",
    "#             for x in arr:\n",
    "#                 if x:\n",
    "#                     result = vectorstore.similarity_search_with_score(x, k=1)\n",
    "#                     top_doc, score = result[0]\n",
    "\n",
    "#                     matches.append(top_doc.page_content)\n",
    "#                     scores.append(score)\n",
    "\n",
    "#             return matches, scores\n",
    "#         return None, None\n",
    "        \n",
    "#     schema = StructType([\n",
    "#         StructField(\"matches\", ArrayType(StringType()), nullable=True),\n",
    "#         StructField(\"scores\", ArrayType(FloatType()), nullable=True)\n",
    "#     ])\n",
    "    \n",
    "#     return udf(match_array, schema)\n"
   ]
  },
  {
   "cell_type": "code",
   "execution_count": null,
   "id": "af0c0f26",
   "metadata": {},
   "outputs": [
    {
     "name": "stderr",
     "output_type": "stream",
     "text": [
      "/usr/local/lib/python3.12/site-packages/langchain_mistralai/embeddings.py:181: UserWarning: Could not download mistral tokenizer from Huggingface for calculating batch sizes. Set a Huggingface token via the HF_TOKEN environment variable to download the real tokenizer. Falling back to a dummy tokenizer that uses `len()`.\n",
      "  warnings.warn(\n",
      "[Stage 79:>                                                         (0 + 1) / 1]\r"
     ]
    },
    {
     "name": "stdout",
     "output_type": "stream",
     "text": [
      "+------------+--------------------+--------------------+--------------------+-----------------------------+\n",
      "|          id|         hard_skills|         soft_skills| soft_skills_matched|soft_skills_similarity_scores|\n",
      "+------------+--------------------+--------------------+--------------------+-----------------------------+\n",
      "|RES_s93wTCLp|[atm, c++, ccna, ...|[clients, procure...|[writing, negotia...|         [0.6538537, 0.714...|\n",
      "|RES_Z7yf1tu6|[sql, pl/sql, tra...|[communication, t...|[speaking, coordi...|         [0.7909141, 0.760...|\n",
      "|RES_hAp1XnJZ|[database design,...|[excellent commun...|[active listening...|         [0.74233043, 0.72...|\n",
      "|RES_zsgGxd2s|[microsoft access...|[collaboration, c...|[coordination, se...|         [0.7823948, 0.755...|\n",
      "|RES_RrDNNvMz|[r, sql, data ana...|[innovative, deta...|[critical thinkin...|         [0.6805059, 0.726...|\n",
      "|RES_7rYoKTcb|[matlab, simulink...|[communication, t...|[speaking, coordi...|         [0.7909141, 0.760...|\n",
      "|RES_dI74kKQw|[html, html5, css...|[project leadersh...|[management of pe...|         [0.66337484, 0.83...|\n",
      "|RES_AAwaK8NY|[financial planni...|[communication, p...|[speaking, comple...|         [0.7909141, 0.878...|\n",
      "|RES_jxAmUMgn|[java, javascript...|[account manageme...|[time management,...|         [0.7684332, 0.729...|\n",
      "|RES_fTYeywv1|[sap, as400, cams...|[managing, counse...|[time management,...|         [0.81597686, 0.70...|\n",
      "|RES_ZZpNAyeK|[python 3.x, r, s...|[strong decision-...|[judgment and dec...|         [0.781489, 0.6579...|\n",
      "|RES_l7IXSfv7|[python, r, table...|[excellent commun...|[active listening...|         [0.74233043, 0.84...|\n",
      "|RES_vwWeZTDF|[microsoft word, ...|[communication, t...|[speaking, coordi...|         [0.7909141, 0.760...|\n",
      "|RES_kL06mNvW|[sql, python, jup...|[automation, clie...|[operation and co...|         [0.69669497, 0.72...|\n",
      "|RES_gLmc70sy|[order processing...|[time management,...|[time management,...|         [0.9999674, 0.742...|\n",
      "|RES_iFHwzwmT|[data modelling, ...|[detail-oriented,...|[service orientat...|         [0.7260685, 0.649...|\n",
      "|RES_WEgsEJYj|[java, c, c++, xm...|[interpersonal sk...|[active listening...|         [0.748868, 0.6856...|\n",
      "|RES_JgJdoXyt|[sql, pl/sql, t-s...|[communication, t...|[speaking, coordi...|         [0.7909141, 0.760...|\n",
      "|RES_EZITWfdb|[j2ee, spring, sp...|[documentation, m...|[writing, time ma...|         [0.7326061, 0.815...|\n",
      "|RES_fqhdZazg|[c#, php, asp.net...|[professional, cr...|[writing, writing...|         [0.68776745, 0.74...|\n",
      "+------------+--------------------+--------------------+--------------------+-----------------------------+\n",
      "only showing top 20 rows\n",
      "\n"
     ]
    },
    {
     "name": "stderr",
     "output_type": "stream",
     "text": [
      "                                                                                \r"
     ]
    }
   ],
   "source": [
    "# soft_skills_ref = df_soft_skills_keywords.select(\"keyword\").dropDuplicates().rdd.flatMap(lambda x: x).collect()\n",
    "\n",
    "# embed_match_udf = embed_match_array_udf_factory(soft_skills_ref)\n",
    "\n",
    "# df_matched_soft = df_resumes_skills.withColumn(\"soft_skills_embed\", embed_match_udf(\"soft_skills\"))\n",
    "\n",
    "# df_matched_soft = df_matched_soft \\\n",
    "#     .withColumn(\"soft_skills_matched\", df_matched_soft[\"soft_skills_embed\"][\"matches\"]) \\\n",
    "#     .withColumn(\"soft_skills_similarity_scores\", df_matched_soft[\"soft_skills_embed\"][\"scores\"]) \\\n",
    "#     .drop(\"soft_skills_embed\")\n",
    "\n",
    "# df_matched_soft.show()"
   ]
  },
  {
   "cell_type": "code",
   "execution_count": null,
   "id": "5d40de21",
   "metadata": {},
   "outputs": [
    {
     "name": "stderr",
     "output_type": "stream",
     "text": [
      "/usr/local/lib/python3.12/site-packages/langchain_mistralai/embeddings.py:181: UserWarning: Could not download mistral tokenizer from Huggingface for calculating batch sizes. Set a Huggingface token via the HF_TOKEN environment variable to download the real tokenizer. Falling back to a dummy tokenizer that uses `len()`.\n",
      "  warnings.warn(\n"
     ]
    },
    {
     "name": "stdout",
     "output_type": "stream",
     "text": [
      "Original skill: communication, Matched word: speaking, Score: 0.7909141182899475\n",
      "Original skill: teamwork, Matched word: coordination, Score: 0.7602235078811646\n",
      "Original skill: leadership, Matched word: critical thinking, Score: 0.747788667678833\n",
      "Original skill: problem-solving, Matched word: complex problem solving, Score: 0.8326230049133301\n",
      "Original skill: analytical skills, Matched word: critical thinking, Score: 0.777920126914978\n",
      "Original skill: project management, Matched word: time management, Score: 0.82828289270401\n",
      "Original skill: client handling, Matched word: management of personnel resources, Score: 0.6217860579490662\n",
      "Original skill: written communication skills, Matched word: writing, Score: 0.7942733764648438\n"
     ]
    },
    {
     "name": "stderr",
     "output_type": "stream",
     "text": [
      "                                                                                \r"
     ]
    }
   ],
   "source": [
    "# row = df_matched_soft.filter(df_matched_soft.id == \"RES_mSxlSENu\").first().asDict()\n",
    "# for skill, match, score in zip(row['soft_skills'],\n",
    "#                         row['soft_skills_matched'], \n",
    "#                         row['soft_skills_similarity_scores']):\n",
    "#     print(f\"Original skill: {skill}, Matched word: {match}, Score: {score}\"  )"
   ]
  },
  {
   "cell_type": "markdown",
   "id": "d2f601f1",
   "metadata": {},
   "source": [
    "# Gold Table"
   ]
  },
  {
   "cell_type": "code",
   "execution_count": 14,
   "id": "3b60debc",
   "metadata": {},
   "outputs": [
    {
     "name": "stdout",
     "output_type": "stream",
     "text": [
      "+-----------+------------+------+--------------------+--------------------+\n",
      "|     job_id|   resume_id|   fit|         soft_skills|      jd_soft_skills|\n",
      "+-----------+------------+------+--------------------+--------------------+\n",
      "|JD_s93wTCLp|RES_s93wTCLp|No Fit|[clients, procure...|                  []|\n",
      "|JD_Z7yf1tu6|RES_Z7yf1tu6|No Fit|[communication, t...|[communication, t...|\n",
      "|JD_hAp1XnJZ|RES_hAp1XnJZ|No Fit|[excellent commun...|[facilitation, st...|\n",
      "|JD_zsgGxd2s|RES_zsgGxd2s|No Fit|[collaboration, c...|[facilitation, st...|\n",
      "|JD_RrDNNvMz|RES_RrDNNvMz|No Fit|[innovative, deta...|[communication, c...|\n",
      "|JD_7rYoKTcb|RES_7rYoKTcb|No Fit|[communication, t...|[communication, t...|\n",
      "|JD_dI74kKQw|RES_dI74kKQw|No Fit|[project leadersh...|                  []|\n",
      "|JD_AAwaK8NY|RES_AAwaK8NY|No Fit|[communication, p...|[communication, t...|\n",
      "|JD_jxAmUMgn|RES_jxAmUMgn|No Fit|[account manageme...|                  []|\n",
      "|JD_fTYeywv1|RES_fTYeywv1|No Fit|[managing, counse...|[communication, a...|\n",
      "|JD_ZZpNAyeK|RES_ZZpNAyeK|No Fit|[strong decision-...|[leadership, ment...|\n",
      "|JD_l7IXSfv7|RES_l7IXSfv7|No Fit|[excellent commun...|[communication, l...|\n",
      "|JD_vwWeZTDF|RES_vwWeZTDF|No Fit|[communication, t...|[communication, a...|\n",
      "|JD_kL06mNvW|RES_kL06mNvW|No Fit|[automation, clie...|[analytical skill...|\n",
      "|JD_gLmc70sy|RES_gLmc70sy|No Fit|[time management,...|                  []|\n",
      "|JD_iFHwzwmT|RES_iFHwzwmT|No Fit|[detail-oriented,...|[facilitation, st...|\n",
      "|JD_WEgsEJYj|RES_WEgsEJYj|No Fit|[interpersonal sk...|                  []|\n",
      "|JD_JgJdoXyt|RES_JgJdoXyt|No Fit|[communication, t...|                  []|\n",
      "|JD_EZITWfdb|RES_EZITWfdb|No Fit|[documentation, m...|[communication, c...|\n",
      "|JD_fqhdZazg|RES_fqhdZazg|No Fit|[professional, cr...|[leadership, comm...|\n",
      "+-----------+------------+------+--------------------+--------------------+\n",
      "only showing top 20 rows\n",
      "\n"
     ]
    }
   ],
   "source": [
    "df_resumes_skills_rename = df_resumes_skills.withColumnRenamed(\"id\", \"resume_id\")\n",
    "df_jd_skills_rename = df_jd_skills.withColumnRenamed(\"id\", \"job_id\").withColumnRenamed('soft_skills', 'jd_soft_skills')\n",
    "df_joined = df_labels.join(df_resumes_skills_rename, on=\"resume_id\", how=\"inner\") \n",
    "df_joined = df_joined.join(df_jd_skills_rename, on=\"job_id\", how=\"inner\")\n",
    "df_joined = df_joined.select('job_id', 'resume_id', 'fit', 'soft_skills', 'jd_soft_skills')\n",
    "df_joined.show()"
   ]
  },
  {
   "cell_type": "code",
   "execution_count": null,
   "id": "9d80afdd",
   "metadata": {},
   "outputs": [
    {
     "name": "stderr",
     "output_type": "stream",
     "text": [
      "/usr/local/lib/python3.12/site-packages/langchain_mistralai/embeddings.py:181: UserWarning: Could not download mistral tokenizer from Huggingface for calculating batch sizes. Set a Huggingface token via the HF_TOKEN environment variable to download the real tokenizer. Falling back to a dummy tokenizer that uses `len()`.\n",
      "  warnings.warn(\n",
      "/usr/local/lib/python3.12/site-packages/langchain_mistralai/embeddings.py:181: UserWarning: Could not download mistral tokenizer from Huggingface for calculating batch sizes. Set a Huggingface token via the HF_TOKEN environment variable to download the real tokenizer. Falling back to a dummy tokenizer that uses `len()`.\n",
      "  warnings.warn(\n",
      "/usr/local/lib/python3.12/site-packages/langchain_mistralai/embeddings.py:181: UserWarning: Could not download mistral tokenizer from Huggingface for calculating batch sizes. Set a Huggingface token via the HF_TOKEN environment variable to download the real tokenizer. Falling back to a dummy tokenizer that uses `len()`.\n",
      "  warnings.warn(\n",
      "/usr/local/lib/python3.12/site-packages/langchain_mistralai/embeddings.py:181: UserWarning: Could not download mistral tokenizer from Huggingface for calculating batch sizes. Set a Huggingface token via the HF_TOKEN environment variable to download the real tokenizer. Falling back to a dummy tokenizer that uses `len()`.\n",
      "  warnings.warn(\n",
      "/usr/local/lib/python3.12/site-packages/langchain_mistralai/embeddings.py:181: UserWarning: Could not download mistral tokenizer from Huggingface for calculating batch sizes. Set a Huggingface token via the HF_TOKEN environment variable to download the real tokenizer. Falling back to a dummy tokenizer that uses `len()`.\n",
      "  warnings.warn(\n"
     ]
    }
   ],
   "source": [
    "from langchain_core.vectorstores import InMemoryVectorStore\n",
    "from sklearn.metrics.pairwise import cosine_similarity\n",
    "from langchain_mistralai import MistralAIEmbeddings\n",
    "import numpy as np\n",
    "\n",
    "def embed_compare_array_udf_factory():\n",
    "    def match_array(arr1, arr2):\n",
    "\n",
    "        if arr1 and arr2:\n",
    "            embeddings = MistralAIEmbeddings(model=\"mistral-embed\")\n",
    "        \n",
    "            arr1_vectors = embeddings.embed_documents(arr1)\n",
    "            arr2_vectors = embeddings.embed_documents(arr2)\n",
    "\n",
    "            similarities = cosine_similarity(arr2_vectors, arr1_vectors)\n",
    "\n",
    "            matches = []\n",
    "            scores = []\n",
    "\n",
    "            for i, row in enumerate(similarities):\n",
    "                best_idx = np.argmax(row)\n",
    "                best_score = row[best_idx]\n",
    "\n",
    "                if best_score > 0.8:\n",
    "                    matches.append(arr1[best_idx])\n",
    "                    scores.append(float(best_score))\n",
    "                else:\n",
    "                    matches.append(None)\n",
    "                    scores.append(None)\n",
    "\n",
    "            return matches, scores\n",
    "        return None, None\n",
    "        \n",
    "    schema = StructType([\n",
    "        StructField(\"matches\", ArrayType(StringType()), nullable=True),\n",
    "        StructField(\"scores\", ArrayType(FloatType()), nullable=True)\n",
    "    ])\n",
    "    \n",
    "    return udf(match_array, schema)\n"
   ]
  },
  {
   "cell_type": "code",
   "execution_count": 33,
   "id": "3ea3b105",
   "metadata": {},
   "outputs": [],
   "source": [
    "from pyspark.sql.functions import pandas_udf\n",
    "\n",
    "def embed_compare_array_pandas_udf_factory():\n",
    "    \n",
    "    schema = StructType([\n",
    "        StructField(\"matches\", ArrayType(StringType()), nullable=True),\n",
    "        StructField(\"scores\", ArrayType(FloatType()), nullable=True)\n",
    "    ])\n",
    "\n",
    "    @pandas_udf(schema)\n",
    "    def match_batch(arr1_series: pd.Series, arr2_series: pd.Series) -> pd.DataFrame:\n",
    "        embedder = MistralAIEmbeddings(model=\"mistral-embed\")\n",
    "\n",
    "        # Step 1: Flatten all arr1 and arr2 into one big list\n",
    "        arr1_all = []\n",
    "        arr2_all = []\n",
    "        arr1_lens = []\n",
    "        arr2_lens = []\n",
    "\n",
    "        for arr1, arr2 in zip(arr1_series, arr2_series):\n",
    "            arr1_lens.append(len(arr1) if arr1 else 0)\n",
    "            arr2_lens.append(len(arr2) if arr2 else 0)\n",
    "            arr1_all.extend(arr1 or [])\n",
    "            arr2_all.extend(arr2 or [])\n",
    "\n",
    "        # Step 2: Embed all at once (1 batch for arr1, 1 for arr2)\n",
    "        arr1_all_vecs = embedder.embed_documents(arr1_all) if arr1_all else []\n",
    "        arr2_all_vecs = embedder.embed_documents(arr2_all) if arr2_all else []\n",
    "\n",
    "        # Step 3: Reconstruct vectors per row\n",
    "        arr1_vectors_per_row = []\n",
    "        arr2_vectors_per_row = []\n",
    "\n",
    "        a1_offset = 0\n",
    "        a2_offset = 0\n",
    "\n",
    "        for l1, l2 in zip(arr1_lens, arr2_lens):\n",
    "            arr1_vectors_per_row.append(arr1_all_vecs[a1_offset:a1_offset+l1] if l1 > 0 else [])\n",
    "            arr2_vectors_per_row.append(arr2_all_vecs[a2_offset:a2_offset+l2] if l2 > 0 else [])\n",
    "            a1_offset += l1\n",
    "            a2_offset += l2\n",
    "\n",
    "        results = []\n",
    "\n",
    "        for arr1, arr2, arr1_vecs, arr2_vecs in zip(arr1_series, arr2_series, arr1_vectors_per_row, arr2_vectors_per_row):\n",
    "            if not arr1 or not arr2:\n",
    "                results.append(([], []))\n",
    "                continue\n",
    "\n",
    "            sim_matrix = cosine_similarity(arr2_vecs, arr1_vecs)\n",
    "\n",
    "            matches = []\n",
    "            scores = []\n",
    "\n",
    "            for i, row in enumerate(sim_matrix):\n",
    "                best_idx = int(np.argmax(row))\n",
    "                best_score = float(row[best_idx])\n",
    "                if best_score > 0.8:\n",
    "                    matches.append(arr1[best_idx])\n",
    "                    scores.append(best_score)\n",
    "                else:\n",
    "                    matches.append(None)\n",
    "                    scores.append(None)\n",
    "\n",
    "            results.append((matches, scores))\n",
    "\n",
    "        return pd.DataFrame(results, columns=[\"matches\", \"scores\"])\n",
    "\n",
    "    return match_batch"
   ]
  },
  {
   "cell_type": "code",
   "execution_count": 60,
   "id": "fcc9e9f9",
   "metadata": {},
   "outputs": [],
   "source": [
    "def fuzzy_compare_array_udf_factory():\n",
    "    def match_array(arr1, arr2):\n",
    "        if arr1 and arr2:\n",
    "            matches = []\n",
    "            scores = []\n",
    "            for x in arr2:\n",
    "                if x:\n",
    "                    match = process.extractOne(x, arr1, scorer=fuzz.WRatio)\n",
    "                    score = float(match[1])\n",
    "                    if match and score > 80:\n",
    "                        matches.append(match[0])\n",
    "                        scores.append(score)  \n",
    "                    else:\n",
    "                        matches.append(None)\n",
    "                        scores.append(None)\n",
    "                else:\n",
    "                    matches.append(None)\n",
    "                    scores.append(None)\n",
    "            return matches, scores\n",
    "        return [], []\n",
    "    \n",
    "    schema = StructType([\n",
    "        StructField(\"matches\", ArrayType(StringType()), nullable=True),\n",
    "        StructField(\"scores\", ArrayType(FloatType()), nullable=True)\n",
    "    ])\n",
    "    return udf(match_array, schema)"
   ]
  },
  {
   "cell_type": "code",
   "execution_count": 61,
   "id": "78321455",
   "metadata": {},
   "outputs": [
    {
     "name": "stdout",
     "output_type": "stream",
     "text": [
      "+-----------+------------+------+--------------------+--------------------+--------------------+-----------------------------+\n",
      "|     job_id|   resume_id|   fit|         soft_skills|      jd_soft_skills| soft_skills_matched|soft_skills_similarity_scores|\n",
      "+-----------+------------+------+--------------------+--------------------+--------------------+-----------------------------+\n",
      "|JD_s93wTCLp|RES_s93wTCLp|No Fit|[clients, procure...|                  []|                  []|                           []|\n",
      "|JD_Z7yf1tu6|RES_Z7yf1tu6|No Fit|[communication, t...|[communication, t...|[communication, t...|         [100.0, 100.0, 10...|\n",
      "|JD_hAp1XnJZ|RES_hAp1XnJZ|No Fit|[excellent commun...|[facilitation, st...|[communication, N...|         [90.0, NULL, NULL...|\n",
      "|JD_zsgGxd2s|RES_zsgGxd2s|No Fit|[collaboration, c...|[facilitation, st...|[NULL, NULL, NULL...|         [NULL, NULL, NULL...|\n",
      "|JD_RrDNNvMz|RES_RrDNNvMz|No Fit|[innovative, deta...|[communication, c...|[NULL, NULL, NULL...|         [NULL, NULL, NULL...|\n",
      "|JD_7rYoKTcb|RES_7rYoKTcb|No Fit|[communication, t...|[communication, t...|[communication, N...|         [100.0, NULL, NUL...|\n",
      "|JD_dI74kKQw|RES_dI74kKQw|No Fit|[project leadersh...|                  []|                  []|                           []|\n",
      "|JD_AAwaK8NY|RES_AAwaK8NY|No Fit|[communication, p...|[communication, t...|[communication, N...|         [100.0, NULL, NUL...|\n",
      "|JD_jxAmUMgn|RES_jxAmUMgn|No Fit|[account manageme...|                  []|                  []|                           []|\n",
      "|JD_fTYeywv1|RES_fTYeywv1|No Fit|[managing, counse...|[communication, a...|[NULL, NULL, NULL...|         [NULL, NULL, NULL...|\n",
      "|JD_ZZpNAyeK|RES_ZZpNAyeK|No Fit|[strong decision-...|[leadership, ment...|[NULL, NULL, comm...|         [NULL, NULL, 100....|\n",
      "|JD_l7IXSfv7|RES_l7IXSfv7|No Fit|[excellent commun...|[communication, l...|[communication, N...|         [90.0, NULL, 100....|\n",
      "|JD_vwWeZTDF|RES_vwWeZTDF|No Fit|[communication, t...|[communication, a...|[communication, N...|         [100.0, NULL, NUL...|\n",
      "|JD_kL06mNvW|RES_kL06mNvW|No Fit|[automation, clie...|[analytical skill...|[NULL, NULL, NULL...|         [NULL, NULL, NULL...|\n",
      "|JD_gLmc70sy|RES_gLmc70sy|No Fit|[time management,...|                  []|                  []|                           []|\n",
      "|JD_iFHwzwmT|RES_iFHwzwmT|No Fit|[detail-oriented,...|[facilitation, st...|[NULL, NULL, NULL...|         [NULL, NULL, NULL...|\n",
      "|JD_WEgsEJYj|RES_WEgsEJYj|No Fit|[interpersonal sk...|                  []|                  []|                           []|\n",
      "|JD_JgJdoXyt|RES_JgJdoXyt|No Fit|[communication, t...|                  []|                  []|                           []|\n",
      "|JD_EZITWfdb|RES_EZITWfdb|No Fit|[documentation, m...|[communication, c...|[NULL, NULL, NULL...|         [NULL, NULL, NULL...|\n",
      "|JD_fqhdZazg|RES_fqhdZazg|No Fit|[professional, cr...|[leadership, comm...|[NULL, NULL, NULL...|         [NULL, NULL, NULL...|\n",
      "+-----------+------------+------+--------------------+--------------------+--------------------+-----------------------------+\n",
      "only showing top 20 rows\n",
      "\n"
     ]
    }
   ],
   "source": [
    "embed_compare_udf = fuzzy_compare_array_udf_factory()\n",
    "\n",
    "df_compare_soft = df_joined.withColumn(\"soft_skills_compare\", embed_compare_udf(\"jd_soft_skills\", \"soft_skills\"))\n",
    "\n",
    "df_compare_soft = df_compare_soft \\\n",
    "    .withColumn(\"soft_skills_matched\", df_compare_soft[\"soft_skills_compare\"][\"matches\"]) \\\n",
    "    .withColumn(\"soft_skills_similarity_scores\", df_compare_soft[\"soft_skills_compare\"][\"scores\"]) \\\n",
    "    .drop(\"soft_skills_compare\")\n",
    "\n",
    "df_compare_soft.show()"
   ]
  },
  {
   "cell_type": "code",
   "execution_count": 62,
   "id": "c82c542e",
   "metadata": {},
   "outputs": [
    {
     "name": "stdout",
     "output_type": "stream",
     "text": [
      "Original skill: excellent communication skills, Matched word: communication, Score: 90.0\n",
      "Original skill: strong analytical skills, Matched word: None, Score: None\n",
      "Original skill: excellent diagnostic skills, Matched word: None, Score: None\n",
      "Original skill: team leadership, Matched word: None, Score: None\n"
     ]
    }
   ],
   "source": [
    "row = df_compare_soft.filter(df_compare_soft.resume_id == \"RES_hAp1XnJZ\").first().asDict()\n",
    "for skill, match, score in zip(row['soft_skills'],\n",
    "                        row['soft_skills_matched'], \n",
    "                        row['soft_skills_similarity_scores']):\n",
    "    print(f\"Original skill: {skill}, Matched word: {match}, Score: {score}\"  )"
   ]
  },
  {
   "cell_type": "code",
   "execution_count": 63,
   "id": "b7dd6c84",
   "metadata": {},
   "outputs": [
    {
     "name": "stderr",
     "output_type": "stream",
     "text": [
      "                                                                                \r"
     ]
    }
   ],
   "source": [
    "# Cache results\n",
    "df_compare_soft.write.mode(\"overwrite\").parquet(\"datamart/temp/df_compare_soft.parquet\")"
   ]
  },
  {
   "cell_type": "markdown",
   "id": "610b12a9",
   "metadata": {},
   "source": [
    "# EDA"
   ]
  },
  {
   "cell_type": "markdown",
   "id": "253b9864",
   "metadata": {},
   "source": [
    "## Hard Skills"
   ]
  },
  {
   "cell_type": "code",
   "execution_count": 35,
   "id": "24c56430",
   "metadata": {},
   "outputs": [
    {
     "name": "stderr",
     "output_type": "stream",
     "text": [
      "                                                                                \r"
     ]
    },
    {
     "name": "stderr",
     "output_type": "stream",
     "text": [
      "[Stage 36:========>        (6 + 6) / 12][Stage 42:========>        (6 + 6) / 12]\r"
     ]
    }
   ],
   "source": [
    "# Retrieve from cache\n",
    "df_matched_resume = spark.read.option(\"header\", \"true\").parquet(\"datamart/temp/df_matched_resume.parquet\")\n",
    "df_matched_jd = spark.read.option(\"header\", \"true\").parquet(\"datamart/temp/df_matched_jd.parquet\")"
   ]
  },
  {
   "cell_type": "code",
   "execution_count": 36,
   "id": "b69edfe8",
   "metadata": {},
   "outputs": [],
   "source": [
    "df_matched_resume_cleaned = df_matched_resume.select('id', 'hard_skills_category', 'hard_skills_standardized')\n",
    "df_matched_jd_cleaned = df_matched_jd.select('id', 'hard_skills_category', 'hard_skills_standardized')"
   ]
  },
  {
   "cell_type": "markdown",
   "id": "557359a3",
   "metadata": {},
   "source": [
    "Remove nulls"
   ]
  },
  {
   "cell_type": "code",
   "execution_count": 37,
   "id": "4031bd5f",
   "metadata": {},
   "outputs": [],
   "source": [
    "df_matched_resume_cleaned = df_matched_resume_cleaned.withColumn(\n",
    "    \"hard_skills_category\",\n",
    "    F.expr(\"filter(hard_skills_category, x -> x is not null)\")\n",
    ")\n",
    "df_matched_resume_cleaned = df_matched_resume_cleaned.withColumn(\n",
    "    \"hard_skills_standardized\",\n",
    "    F.expr(\"filter(hard_skills_standardized, x -> x is not null)\")\n",
    ")\n",
    "\n",
    "df_matched_jd_cleaned = df_matched_jd_cleaned.withColumn(\n",
    "    \"hard_skills_category\",\n",
    "    F.expr(\"filter(hard_skills_category, x -> x is not null)\")\n",
    ")\n",
    "df_matched_jd_cleaned = df_matched_jd_cleaned.withColumn(\n",
    "    \"hard_skills_standardized\",\n",
    "    F.expr(\"filter(hard_skills_standardized, x -> x is not null)\")\n",
    ")"
   ]
  },
  {
   "cell_type": "markdown",
   "id": "23d80255",
   "metadata": {},
   "source": [
    "Remove duplicates"
   ]
  },
  {
   "cell_type": "code",
   "execution_count": 38,
   "id": "9d451195",
   "metadata": {},
   "outputs": [],
   "source": [
    "df_matched_resume_cleaned = df_matched_resume_cleaned.withColumn(\n",
    "    \"hard_skills_category\",\n",
    "    F.array_distinct(\"hard_skills_category\")\n",
    ")\n",
    "df_matched_resume_cleaned = df_matched_resume_cleaned.withColumn(\n",
    "    \"hard_skills_standardized\",\n",
    "    F.array_distinct(\"hard_skills_standardized\")\n",
    ")\n",
    "\n",
    "df_matched_jd_cleaned = df_matched_jd_cleaned.withColumn(\n",
    "    \"hard_skills_standardized\",\n",
    "    F.array_distinct(\"hard_skills_standardized\")\n",
    ")\n",
    "df_matched_jd_cleaned = df_matched_jd_cleaned.withColumn(\n",
    "    \"hard_skills_standardized\",\n",
    "    F.array_distinct(\"hard_skills_standardized\")\n",
    ")"
   ]
  },
  {
   "cell_type": "code",
   "execution_count": 39,
   "id": "6bdc2be2",
   "metadata": {},
   "outputs": [
    {
     "name": "stderr",
     "output_type": "stream",
     "text": [
      "                                                                                \r"
     ]
    },
    {
     "name": "stderr",
     "output_type": "stream",
     "text": [
      "[Stage 36:========>        (6 + 6) / 12][Stage 42:========>        (6 + 6) / 12]\r"
     ]
    }
   ],
   "source": [
    "df_matched_resume_pd = df_matched_resume_cleaned.toPandas()\n",
    "df_matched_jd_pd = df_matched_jd_cleaned.toPandas()"
   ]
  },
  {
   "cell_type": "code",
   "execution_count": 40,
   "id": "54bce005",
   "metadata": {},
   "outputs": [
    {
     "name": "stderr",
     "output_type": "stream",
     "text": [
      "                                                                                \r"
     ]
    },
    {
     "name": "stderr",
     "output_type": "stream",
     "text": [
      "[Stage 36:========>        (6 + 6) / 12][Stage 42:========>        (6 + 6) / 12]\r"
     ]
    }
   ],
   "source": [
    "df_labels_pd = df_labels.toPandas()"
   ]
  },
  {
   "cell_type": "code",
   "execution_count": 52,
   "id": "526a692c",
   "metadata": {},
   "outputs": [
    {
     "data": {
      "text/html": [
       "<div>\n",
       "<style scoped>\n",
       "    .dataframe tbody tr th:only-of-type {\n",
       "        vertical-align: middle;\n",
       "    }\n",
       "\n",
       "    .dataframe tbody tr th {\n",
       "        vertical-align: top;\n",
       "    }\n",
       "\n",
       "    .dataframe thead th {\n",
       "        text-align: right;\n",
       "    }\n",
       "</style>\n",
       "<table border=\"1\" class=\"dataframe\">\n",
       "  <thead>\n",
       "    <tr style=\"text-align: right;\">\n",
       "      <th></th>\n",
       "      <th>resume_id</th>\n",
       "      <th>job_id</th>\n",
       "      <th>fit</th>\n",
       "      <th>hard_skills_category_x</th>\n",
       "      <th>hard_skills_standardized_x</th>\n",
       "      <th>hard_skills_category_y</th>\n",
       "      <th>hard_skills_standardized_y</th>\n",
       "    </tr>\n",
       "  </thead>\n",
       "  <tbody>\n",
       "    <tr>\n",
       "      <th>0</th>\n",
       "      <td>RES_s93wTCLp</td>\n",
       "      <td>JD_s93wTCLp</td>\n",
       "      <td>No Fit</td>\n",
       "      <td>[object or component oriented development soft...</td>\n",
       "      <td>[c++, cisco anyconnect, lan software, linux, i...</td>\n",
       "      <td>[human resources software]</td>\n",
       "      <td>[humanic design human resources management sys...</td>\n",
       "    </tr>\n",
       "    <tr>\n",
       "      <th>1</th>\n",
       "      <td>RES_Z7yf1tu6</td>\n",
       "      <td>JD_Z7yf1tu6</td>\n",
       "      <td>No Fit</td>\n",
       "      <td>[data base user interface and query software, ...</td>\n",
       "      <td>[structured query language sql, oracle pl/sql,...</td>\n",
       "      <td>[development environment software, business in...</td>\n",
       "      <td>[microsoft azure, apache spark, teradata activ...</td>\n",
       "    </tr>\n",
       "    <tr>\n",
       "      <th>2</th>\n",
       "      <td>RES_hAp1XnJZ</td>\n",
       "      <td>JD_hAp1XnJZ</td>\n",
       "      <td>No Fit</td>\n",
       "      <td>[data base management system software, enterpr...</td>\n",
       "      <td>[database design software, technology group in...</td>\n",
       "      <td>[analytical or scientific software, content wo...</td>\n",
       "      <td>[business analysis software, atlassian jira, b...</td>\n",
       "    </tr>\n",
       "    <tr>\n",
       "      <th>3</th>\n",
       "      <td>RES_zsgGxd2s</td>\n",
       "      <td>JD_zsgGxd2s</td>\n",
       "      <td>No Fit</td>\n",
       "      <td>[data base user interface and query software, ...</td>\n",
       "      <td>[microsoft access, microsoft excel, microsoft ...</td>\n",
       "      <td>[content workflow software, graphical user int...</td>\n",
       "      <td>[atlassian jira, bps compliance]</td>\n",
       "    </tr>\n",
       "    <tr>\n",
       "      <th>4</th>\n",
       "      <td>RES_RrDNNvMz</td>\n",
       "      <td>JD_RrDNNvMz</td>\n",
       "      <td>No Fit</td>\n",
       "      <td>[object or component oriented development soft...</td>\n",
       "      <td>[r, structured query language sql, data analys...</td>\n",
       "      <td>[customer relationship management crm software...</td>\n",
       "      <td>[salesforce software, atlassian jira, salesforce]</td>\n",
       "    </tr>\n",
       "    <tr>\n",
       "      <th>...</th>\n",
       "      <td>...</td>\n",
       "      <td>...</td>\n",
       "      <td>...</td>\n",
       "      <td>...</td>\n",
       "      <td>...</td>\n",
       "      <td>...</td>\n",
       "      <td>...</td>\n",
       "    </tr>\n",
       "    <tr>\n",
       "      <th>6236</th>\n",
       "      <td>RES_YLjaATiD</td>\n",
       "      <td>JD_YLjaATiD</td>\n",
       "      <td>Good Fit</td>\n",
       "      <td>[object or component oriented development soft...</td>\n",
       "      <td>[c#, android, hibernate orm, c, c++, apache ha...</td>\n",
       "      <td>[object or component oriented development soft...</td>\n",
       "      <td>[c++, oracle java, python, practical extractio...</td>\n",
       "    </tr>\n",
       "    <tr>\n",
       "      <th>6237</th>\n",
       "      <td>RES_PFkWsLYv</td>\n",
       "      <td>JD_PFkWsLYv</td>\n",
       "      <td>Good Fit</td>\n",
       "      <td>[office suite software, accounting software, t...</td>\n",
       "      <td>[microsoft office, intuit quickbooks, income t...</td>\n",
       "      <td>[accounting software, accounting software, spr...</td>\n",
       "      <td>[computerease construction accounting, cost ac...</td>\n",
       "    </tr>\n",
       "    <tr>\n",
       "      <th>6238</th>\n",
       "      <td>RES_1HWrRA5T</td>\n",
       "      <td>JD_1HWrRA5T</td>\n",
       "      <td>Good Fit</td>\n",
       "      <td>[web platform development software, enterprise...</td>\n",
       "      <td>[javascript, oracle javaserver pages jsp, exte...</td>\n",
       "      <td>[analytical or scientific software, applicatio...</td>\n",
       "      <td>[stellar processes ez sim, microsoft windows s...</td>\n",
       "    </tr>\n",
       "    <tr>\n",
       "      <th>6239</th>\n",
       "      <td>RES_peD5wJri</td>\n",
       "      <td>JD_peD5wJri</td>\n",
       "      <td>No Fit</td>\n",
       "      <td>[accounting software, compliance software, fin...</td>\n",
       "      <td>[financial reporting software, accounting soft...</td>\n",
       "      <td>[calendar and scheduling software, time accoun...</td>\n",
       "      <td>[workbrain employee scheduling, kronos workfor...</td>\n",
       "    </tr>\n",
       "    <tr>\n",
       "      <th>6240</th>\n",
       "      <td>RES_1nC2K6Ls</td>\n",
       "      <td>JD_1nC2K6Ls</td>\n",
       "      <td>No Fit</td>\n",
       "      <td>[data base user interface and query software, ...</td>\n",
       "      <td>[structured query language sql, python, jupyte...</td>\n",
       "      <td>[analytical or scientific software, analytical...</td>\n",
       "      <td>[data analysis software, root cause analysis s...</td>\n",
       "    </tr>\n",
       "  </tbody>\n",
       "</table>\n",
       "<p>6241 rows × 7 columns</p>\n",
       "</div>"
      ],
      "text/plain": [
       "         resume_id       job_id       fit  \\\n",
       "0     RES_s93wTCLp  JD_s93wTCLp    No Fit   \n",
       "1     RES_Z7yf1tu6  JD_Z7yf1tu6    No Fit   \n",
       "2     RES_hAp1XnJZ  JD_hAp1XnJZ    No Fit   \n",
       "3     RES_zsgGxd2s  JD_zsgGxd2s    No Fit   \n",
       "4     RES_RrDNNvMz  JD_RrDNNvMz    No Fit   \n",
       "...            ...          ...       ...   \n",
       "6236  RES_YLjaATiD  JD_YLjaATiD  Good Fit   \n",
       "6237  RES_PFkWsLYv  JD_PFkWsLYv  Good Fit   \n",
       "6238  RES_1HWrRA5T  JD_1HWrRA5T  Good Fit   \n",
       "6239  RES_peD5wJri  JD_peD5wJri    No Fit   \n",
       "6240  RES_1nC2K6Ls  JD_1nC2K6Ls    No Fit   \n",
       "\n",
       "                                 hard_skills_category_x  \\\n",
       "0     [object or component oriented development soft...   \n",
       "1     [data base user interface and query software, ...   \n",
       "2     [data base management system software, enterpr...   \n",
       "3     [data base user interface and query software, ...   \n",
       "4     [object or component oriented development soft...   \n",
       "...                                                 ...   \n",
       "6236  [object or component oriented development soft...   \n",
       "6237  [office suite software, accounting software, t...   \n",
       "6238  [web platform development software, enterprise...   \n",
       "6239  [accounting software, compliance software, fin...   \n",
       "6240  [data base user interface and query software, ...   \n",
       "\n",
       "                             hard_skills_standardized_x  \\\n",
       "0     [c++, cisco anyconnect, lan software, linux, i...   \n",
       "1     [structured query language sql, oracle pl/sql,...   \n",
       "2     [database design software, technology group in...   \n",
       "3     [microsoft access, microsoft excel, microsoft ...   \n",
       "4     [r, structured query language sql, data analys...   \n",
       "...                                                 ...   \n",
       "6236  [c#, android, hibernate orm, c, c++, apache ha...   \n",
       "6237  [microsoft office, intuit quickbooks, income t...   \n",
       "6238  [javascript, oracle javaserver pages jsp, exte...   \n",
       "6239  [financial reporting software, accounting soft...   \n",
       "6240  [structured query language sql, python, jupyte...   \n",
       "\n",
       "                                 hard_skills_category_y  \\\n",
       "0                            [human resources software]   \n",
       "1     [development environment software, business in...   \n",
       "2     [analytical or scientific software, content wo...   \n",
       "3     [content workflow software, graphical user int...   \n",
       "4     [customer relationship management crm software...   \n",
       "...                                                 ...   \n",
       "6236  [object or component oriented development soft...   \n",
       "6237  [accounting software, accounting software, spr...   \n",
       "6238  [analytical or scientific software, applicatio...   \n",
       "6239  [calendar and scheduling software, time accoun...   \n",
       "6240  [analytical or scientific software, analytical...   \n",
       "\n",
       "                             hard_skills_standardized_y  \n",
       "0     [humanic design human resources management sys...  \n",
       "1     [microsoft azure, apache spark, teradata activ...  \n",
       "2     [business analysis software, atlassian jira, b...  \n",
       "3                      [atlassian jira, bps compliance]  \n",
       "4     [salesforce software, atlassian jira, salesforce]  \n",
       "...                                                 ...  \n",
       "6236  [c++, oracle java, python, practical extractio...  \n",
       "6237  [computerease construction accounting, cost ac...  \n",
       "6238  [stellar processes ez sim, microsoft windows s...  \n",
       "6239  [workbrain employee scheduling, kronos workfor...  \n",
       "6240  [data analysis software, root cause analysis s...  \n",
       "\n",
       "[6241 rows x 7 columns]"
      ]
     },
     "execution_count": 52,
     "metadata": {},
     "output_type": "execute_result"
    }
   ],
   "source": [
    "df_joined_pd = pd.merge(df_labels_pd, df_matched_resume_pd, left_on='resume_id', right_on='id')\n",
    "df_joined_pd = pd.merge(df_joined_pd, df_matched_jd_pd, left_on='job_id', right_on='id')\n",
    "df_joined_pd = df_joined_pd[['resume_id', 'job_id', 'fit', 'hard_skills_category_x', 'hard_skills_standardized_x', \n",
    "                             'hard_skills_category_y', 'hard_skills_standardized_y']]\n",
    "df_joined_pd"
   ]
  },
  {
   "cell_type": "code",
   "execution_count": 53,
   "id": "8fb0ffc8",
   "metadata": {},
   "outputs": [],
   "source": [
    "df_joined_pd['category_match'] = df_joined_pd.apply(\n",
    "    lambda row: sum(word in row['hard_skills_category_y'] for word in row['hard_skills_category_x'] \n",
    "                    if row['hard_skills_category_x'] is not None and row['hard_skills_category_y'] is not None),\n",
    "    axis=1\n",
    ")\n",
    "\n",
    "df_joined_pd['specific_match'] = df_joined_pd.apply(\n",
    "    lambda row: sum(word in row['hard_skills_standardized_y'] for word in row['hard_skills_standardized_x'] \n",
    "                    if row['hard_skills_standardized_x'] is not None and row['hard_skills_standardized_y'] is not None),\n",
    "    axis=1\n",
    ")"
   ]
  },
  {
   "cell_type": "code",
   "execution_count": 54,
   "id": "b687e445",
   "metadata": {},
   "outputs": [
    {
     "data": {
      "text/html": [
       "<div>\n",
       "<style scoped>\n",
       "    .dataframe tbody tr th:only-of-type {\n",
       "        vertical-align: middle;\n",
       "    }\n",
       "\n",
       "    .dataframe tbody tr th {\n",
       "        vertical-align: top;\n",
       "    }\n",
       "\n",
       "    .dataframe thead th {\n",
       "        text-align: right;\n",
       "    }\n",
       "</style>\n",
       "<table border=\"1\" class=\"dataframe\">\n",
       "  <thead>\n",
       "    <tr style=\"text-align: right;\">\n",
       "      <th></th>\n",
       "      <th>resume_id</th>\n",
       "      <th>job_id</th>\n",
       "      <th>fit</th>\n",
       "      <th>hard_skills_category_x</th>\n",
       "      <th>hard_skills_standardized_x</th>\n",
       "      <th>hard_skills_category_y</th>\n",
       "      <th>hard_skills_standardized_y</th>\n",
       "      <th>category_match</th>\n",
       "      <th>specific_match</th>\n",
       "    </tr>\n",
       "  </thead>\n",
       "  <tbody>\n",
       "    <tr>\n",
       "      <th>0</th>\n",
       "      <td>RES_s93wTCLp</td>\n",
       "      <td>JD_s93wTCLp</td>\n",
       "      <td>No Fit</td>\n",
       "      <td>[object or component oriented development soft...</td>\n",
       "      <td>[c++, cisco anyconnect, lan software, linux, i...</td>\n",
       "      <td>[human resources software]</td>\n",
       "      <td>[humanic design human resources management sys...</td>\n",
       "      <td>0</td>\n",
       "      <td>0</td>\n",
       "    </tr>\n",
       "    <tr>\n",
       "      <th>1</th>\n",
       "      <td>RES_Z7yf1tu6</td>\n",
       "      <td>JD_Z7yf1tu6</td>\n",
       "      <td>No Fit</td>\n",
       "      <td>[data base user interface and query software, ...</td>\n",
       "      <td>[structured query language sql, oracle pl/sql,...</td>\n",
       "      <td>[development environment software, business in...</td>\n",
       "      <td>[microsoft azure, apache spark, teradata activ...</td>\n",
       "      <td>6</td>\n",
       "      <td>1</td>\n",
       "    </tr>\n",
       "    <tr>\n",
       "      <th>2</th>\n",
       "      <td>RES_hAp1XnJZ</td>\n",
       "      <td>JD_hAp1XnJZ</td>\n",
       "      <td>No Fit</td>\n",
       "      <td>[data base management system software, enterpr...</td>\n",
       "      <td>[database design software, technology group in...</td>\n",
       "      <td>[analytical or scientific software, content wo...</td>\n",
       "      <td>[business analysis software, atlassian jira, b...</td>\n",
       "      <td>0</td>\n",
       "      <td>0</td>\n",
       "    </tr>\n",
       "    <tr>\n",
       "      <th>3</th>\n",
       "      <td>RES_zsgGxd2s</td>\n",
       "      <td>JD_zsgGxd2s</td>\n",
       "      <td>No Fit</td>\n",
       "      <td>[data base user interface and query software, ...</td>\n",
       "      <td>[microsoft access, microsoft excel, microsoft ...</td>\n",
       "      <td>[content workflow software, graphical user int...</td>\n",
       "      <td>[atlassian jira, bps compliance]</td>\n",
       "      <td>0</td>\n",
       "      <td>0</td>\n",
       "    </tr>\n",
       "    <tr>\n",
       "      <th>4</th>\n",
       "      <td>RES_RrDNNvMz</td>\n",
       "      <td>JD_RrDNNvMz</td>\n",
       "      <td>No Fit</td>\n",
       "      <td>[object or component oriented development soft...</td>\n",
       "      <td>[r, structured query language sql, data analys...</td>\n",
       "      <td>[customer relationship management crm software...</td>\n",
       "      <td>[salesforce software, atlassian jira, salesforce]</td>\n",
       "      <td>0</td>\n",
       "      <td>0</td>\n",
       "    </tr>\n",
       "    <tr>\n",
       "      <th>...</th>\n",
       "      <td>...</td>\n",
       "      <td>...</td>\n",
       "      <td>...</td>\n",
       "      <td>...</td>\n",
       "      <td>...</td>\n",
       "      <td>...</td>\n",
       "      <td>...</td>\n",
       "      <td>...</td>\n",
       "      <td>...</td>\n",
       "    </tr>\n",
       "    <tr>\n",
       "      <th>6236</th>\n",
       "      <td>RES_YLjaATiD</td>\n",
       "      <td>JD_YLjaATiD</td>\n",
       "      <td>Good Fit</td>\n",
       "      <td>[object or component oriented development soft...</td>\n",
       "      <td>[c#, android, hibernate orm, c, c++, apache ha...</td>\n",
       "      <td>[object or component oriented development soft...</td>\n",
       "      <td>[c++, oracle java, python, practical extractio...</td>\n",
       "      <td>3</td>\n",
       "      <td>2</td>\n",
       "    </tr>\n",
       "    <tr>\n",
       "      <th>6237</th>\n",
       "      <td>RES_PFkWsLYv</td>\n",
       "      <td>JD_PFkWsLYv</td>\n",
       "      <td>Good Fit</td>\n",
       "      <td>[office suite software, accounting software, t...</td>\n",
       "      <td>[microsoft office, intuit quickbooks, income t...</td>\n",
       "      <td>[accounting software, accounting software, spr...</td>\n",
       "      <td>[computerease construction accounting, cost ac...</td>\n",
       "      <td>2</td>\n",
       "      <td>1</td>\n",
       "    </tr>\n",
       "    <tr>\n",
       "      <th>6238</th>\n",
       "      <td>RES_1HWrRA5T</td>\n",
       "      <td>JD_1HWrRA5T</td>\n",
       "      <td>Good Fit</td>\n",
       "      <td>[web platform development software, enterprise...</td>\n",
       "      <td>[javascript, oracle javaserver pages jsp, exte...</td>\n",
       "      <td>[analytical or scientific software, applicatio...</td>\n",
       "      <td>[stellar processes ez sim, microsoft windows s...</td>\n",
       "      <td>8</td>\n",
       "      <td>4</td>\n",
       "    </tr>\n",
       "    <tr>\n",
       "      <th>6239</th>\n",
       "      <td>RES_peD5wJri</td>\n",
       "      <td>JD_peD5wJri</td>\n",
       "      <td>No Fit</td>\n",
       "      <td>[accounting software, compliance software, fin...</td>\n",
       "      <td>[financial reporting software, accounting soft...</td>\n",
       "      <td>[calendar and scheduling software, time accoun...</td>\n",
       "      <td>[workbrain employee scheduling, kronos workfor...</td>\n",
       "      <td>0</td>\n",
       "      <td>0</td>\n",
       "    </tr>\n",
       "    <tr>\n",
       "      <th>6240</th>\n",
       "      <td>RES_1nC2K6Ls</td>\n",
       "      <td>JD_1nC2K6Ls</td>\n",
       "      <td>No Fit</td>\n",
       "      <td>[data base user interface and query software, ...</td>\n",
       "      <td>[structured query language sql, python, jupyte...</td>\n",
       "      <td>[analytical or scientific software, analytical...</td>\n",
       "      <td>[data analysis software, root cause analysis s...</td>\n",
       "      <td>1</td>\n",
       "      <td>0</td>\n",
       "    </tr>\n",
       "  </tbody>\n",
       "</table>\n",
       "<p>6241 rows × 9 columns</p>\n",
       "</div>"
      ],
      "text/plain": [
       "         resume_id       job_id       fit  \\\n",
       "0     RES_s93wTCLp  JD_s93wTCLp    No Fit   \n",
       "1     RES_Z7yf1tu6  JD_Z7yf1tu6    No Fit   \n",
       "2     RES_hAp1XnJZ  JD_hAp1XnJZ    No Fit   \n",
       "3     RES_zsgGxd2s  JD_zsgGxd2s    No Fit   \n",
       "4     RES_RrDNNvMz  JD_RrDNNvMz    No Fit   \n",
       "...            ...          ...       ...   \n",
       "6236  RES_YLjaATiD  JD_YLjaATiD  Good Fit   \n",
       "6237  RES_PFkWsLYv  JD_PFkWsLYv  Good Fit   \n",
       "6238  RES_1HWrRA5T  JD_1HWrRA5T  Good Fit   \n",
       "6239  RES_peD5wJri  JD_peD5wJri    No Fit   \n",
       "6240  RES_1nC2K6Ls  JD_1nC2K6Ls    No Fit   \n",
       "\n",
       "                                 hard_skills_category_x  \\\n",
       "0     [object or component oriented development soft...   \n",
       "1     [data base user interface and query software, ...   \n",
       "2     [data base management system software, enterpr...   \n",
       "3     [data base user interface and query software, ...   \n",
       "4     [object or component oriented development soft...   \n",
       "...                                                 ...   \n",
       "6236  [object or component oriented development soft...   \n",
       "6237  [office suite software, accounting software, t...   \n",
       "6238  [web platform development software, enterprise...   \n",
       "6239  [accounting software, compliance software, fin...   \n",
       "6240  [data base user interface and query software, ...   \n",
       "\n",
       "                             hard_skills_standardized_x  \\\n",
       "0     [c++, cisco anyconnect, lan software, linux, i...   \n",
       "1     [structured query language sql, oracle pl/sql,...   \n",
       "2     [database design software, technology group in...   \n",
       "3     [microsoft access, microsoft excel, microsoft ...   \n",
       "4     [r, structured query language sql, data analys...   \n",
       "...                                                 ...   \n",
       "6236  [c#, android, hibernate orm, c, c++, apache ha...   \n",
       "6237  [microsoft office, intuit quickbooks, income t...   \n",
       "6238  [javascript, oracle javaserver pages jsp, exte...   \n",
       "6239  [financial reporting software, accounting soft...   \n",
       "6240  [structured query language sql, python, jupyte...   \n",
       "\n",
       "                                 hard_skills_category_y  \\\n",
       "0                            [human resources software]   \n",
       "1     [development environment software, business in...   \n",
       "2     [analytical or scientific software, content wo...   \n",
       "3     [content workflow software, graphical user int...   \n",
       "4     [customer relationship management crm software...   \n",
       "...                                                 ...   \n",
       "6236  [object or component oriented development soft...   \n",
       "6237  [accounting software, accounting software, spr...   \n",
       "6238  [analytical or scientific software, applicatio...   \n",
       "6239  [calendar and scheduling software, time accoun...   \n",
       "6240  [analytical or scientific software, analytical...   \n",
       "\n",
       "                             hard_skills_standardized_y  category_match  \\\n",
       "0     [humanic design human resources management sys...               0   \n",
       "1     [microsoft azure, apache spark, teradata activ...               6   \n",
       "2     [business analysis software, atlassian jira, b...               0   \n",
       "3                      [atlassian jira, bps compliance]               0   \n",
       "4     [salesforce software, atlassian jira, salesforce]               0   \n",
       "...                                                 ...             ...   \n",
       "6236  [c++, oracle java, python, practical extractio...               3   \n",
       "6237  [computerease construction accounting, cost ac...               2   \n",
       "6238  [stellar processes ez sim, microsoft windows s...               8   \n",
       "6239  [workbrain employee scheduling, kronos workfor...               0   \n",
       "6240  [data analysis software, root cause analysis s...               1   \n",
       "\n",
       "      specific_match  \n",
       "0                  0  \n",
       "1                  1  \n",
       "2                  0  \n",
       "3                  0  \n",
       "4                  0  \n",
       "...              ...  \n",
       "6236               2  \n",
       "6237               1  \n",
       "6238               4  \n",
       "6239               0  \n",
       "6240               0  \n",
       "\n",
       "[6241 rows x 9 columns]"
      ]
     },
     "execution_count": 54,
     "metadata": {},
     "output_type": "execute_result"
    }
   ],
   "source": [
    "df_joined_pd"
   ]
  },
  {
   "cell_type": "code",
   "execution_count": 55,
   "id": "81217719",
   "metadata": {},
   "outputs": [
    {
     "data": {
      "text/html": [
       "<div>\n",
       "<style scoped>\n",
       "    .dataframe tbody tr th:only-of-type {\n",
       "        vertical-align: middle;\n",
       "    }\n",
       "\n",
       "    .dataframe tbody tr th {\n",
       "        vertical-align: top;\n",
       "    }\n",
       "\n",
       "    .dataframe thead tr th {\n",
       "        text-align: left;\n",
       "    }\n",
       "\n",
       "    .dataframe thead tr:last-of-type th {\n",
       "        text-align: right;\n",
       "    }\n",
       "</style>\n",
       "<table border=\"1\" class=\"dataframe\">\n",
       "  <thead>\n",
       "    <tr>\n",
       "      <th></th>\n",
       "      <th colspan=\"8\" halign=\"left\">category_match</th>\n",
       "      <th colspan=\"8\" halign=\"left\">specific_match</th>\n",
       "    </tr>\n",
       "    <tr>\n",
       "      <th></th>\n",
       "      <th>count</th>\n",
       "      <th>mean</th>\n",
       "      <th>std</th>\n",
       "      <th>min</th>\n",
       "      <th>25%</th>\n",
       "      <th>50%</th>\n",
       "      <th>75%</th>\n",
       "      <th>max</th>\n",
       "      <th>count</th>\n",
       "      <th>mean</th>\n",
       "      <th>std</th>\n",
       "      <th>min</th>\n",
       "      <th>25%</th>\n",
       "      <th>50%</th>\n",
       "      <th>75%</th>\n",
       "      <th>max</th>\n",
       "    </tr>\n",
       "    <tr>\n",
       "      <th>fit</th>\n",
       "      <th></th>\n",
       "      <th></th>\n",
       "      <th></th>\n",
       "      <th></th>\n",
       "      <th></th>\n",
       "      <th></th>\n",
       "      <th></th>\n",
       "      <th></th>\n",
       "      <th></th>\n",
       "      <th></th>\n",
       "      <th></th>\n",
       "      <th></th>\n",
       "      <th></th>\n",
       "      <th></th>\n",
       "      <th></th>\n",
       "      <th></th>\n",
       "    </tr>\n",
       "  </thead>\n",
       "  <tbody>\n",
       "    <tr>\n",
       "      <th>Good Fit</th>\n",
       "      <td>1542.0</td>\n",
       "      <td>2.038262</td>\n",
       "      <td>1.643966</td>\n",
       "      <td>0.0</td>\n",
       "      <td>1.0</td>\n",
       "      <td>2.0</td>\n",
       "      <td>3.0</td>\n",
       "      <td>9.0</td>\n",
       "      <td>1542.0</td>\n",
       "      <td>0.961738</td>\n",
       "      <td>1.355821</td>\n",
       "      <td>0.0</td>\n",
       "      <td>0.0</td>\n",
       "      <td>1.0</td>\n",
       "      <td>1.0</td>\n",
       "      <td>10.0</td>\n",
       "    </tr>\n",
       "    <tr>\n",
       "      <th>No Fit</th>\n",
       "      <td>3143.0</td>\n",
       "      <td>1.441934</td>\n",
       "      <td>1.567204</td>\n",
       "      <td>0.0</td>\n",
       "      <td>0.0</td>\n",
       "      <td>1.0</td>\n",
       "      <td>2.0</td>\n",
       "      <td>9.0</td>\n",
       "      <td>3143.0</td>\n",
       "      <td>0.572383</td>\n",
       "      <td>1.077412</td>\n",
       "      <td>0.0</td>\n",
       "      <td>0.0</td>\n",
       "      <td>0.0</td>\n",
       "      <td>1.0</td>\n",
       "      <td>12.0</td>\n",
       "    </tr>\n",
       "    <tr>\n",
       "      <th>Potential Fit</th>\n",
       "      <td>1556.0</td>\n",
       "      <td>1.747429</td>\n",
       "      <td>1.542900</td>\n",
       "      <td>0.0</td>\n",
       "      <td>1.0</td>\n",
       "      <td>1.0</td>\n",
       "      <td>3.0</td>\n",
       "      <td>8.0</td>\n",
       "      <td>1556.0</td>\n",
       "      <td>0.716581</td>\n",
       "      <td>1.133532</td>\n",
       "      <td>0.0</td>\n",
       "      <td>0.0</td>\n",
       "      <td>0.0</td>\n",
       "      <td>1.0</td>\n",
       "      <td>10.0</td>\n",
       "    </tr>\n",
       "  </tbody>\n",
       "</table>\n",
       "</div>"
      ],
      "text/plain": [
       "              category_match                                               \\\n",
       "                       count      mean       std  min  25%  50%  75%  max   \n",
       "fit                                                                         \n",
       "Good Fit              1542.0  2.038262  1.643966  0.0  1.0  2.0  3.0  9.0   \n",
       "No Fit                3143.0  1.441934  1.567204  0.0  0.0  1.0  2.0  9.0   \n",
       "Potential Fit         1556.0  1.747429  1.542900  0.0  1.0  1.0  3.0  8.0   \n",
       "\n",
       "              specific_match                                                \n",
       "                       count      mean       std  min  25%  50%  75%   max  \n",
       "fit                                                                         \n",
       "Good Fit              1542.0  0.961738  1.355821  0.0  0.0  1.0  1.0  10.0  \n",
       "No Fit                3143.0  0.572383  1.077412  0.0  0.0  0.0  1.0  12.0  \n",
       "Potential Fit         1556.0  0.716581  1.133532  0.0  0.0  0.0  1.0  10.0  "
      ]
     },
     "execution_count": 55,
     "metadata": {},
     "output_type": "execute_result"
    },
    {
     "name": "stderr",
     "output_type": "stream",
     "text": [
      "[Stage 36:========>        (6 + 6) / 12][Stage 42:========>        (6 + 6) / 12]\r"
     ]
    }
   ],
   "source": [
    "df_joined_pd.groupby('fit').describe()"
   ]
  },
  {
   "cell_type": "code",
   "execution_count": null,
   "id": "5b6b71d1",
   "metadata": {},
   "outputs": [
    {
     "data": {
      "text/plain": [
       "<Axes: xlabel='fit', ylabel='category_match'>"
      ]
     },
     "execution_count": 45,
     "metadata": {},
     "output_type": "execute_result"
    },
    {
     "data": {
      "image/png": "[encoded data removed]",
      "text/plain": [
       "<Figure size 640x480 with 1 Axes>"
      ]
     },
     "metadata": {},
     "output_type": "display_data"
    }
   ],
   "source": [
    "sns.violinplot(data=df_joined_pd, x='fit', y='category_match', hue='fit')"
   ]
  },
  {
   "cell_type": "code",
   "execution_count": 46,
   "id": "7588fe86",
   "metadata": {},
   "outputs": [
    {
     "data": {
      "text/plain": [
       "<Axes: xlabel='fit', ylabel='specific_match'>"
      ]
     },
     "execution_count": 46,
     "metadata": {},
     "output_type": "execute_result"
    },
    {
     "data": {
      "image/png": "[encoded data removed]",
      "text/plain": [
       "<Figure size 640x480 with 1 Axes>"
      ]
     },
     "metadata": {},
     "output_type": "display_data"
    }
   ],
   "source": [
    "sns.violinplot(data=df_joined_pd, x='fit', y='specific_match', hue='fit')"
   ]
  },
  {
   "cell_type": "code",
   "execution_count": 48,
   "id": "858f0189",
   "metadata": {},
   "outputs": [],
   "source": [
    "df_joined_pd['hard_skills_category_y_len'] = df_joined_pd['hard_skills_category_y'].apply(lambda x: len(x) if x is not None else 0)\n",
    "df_joined_pd['hard_skills_standardized_y_len'] = df_joined_pd['hard_skills_standardized_y'].apply(lambda x: len(x) if x is not None else 0)\n",
    "\n",
    "df_joined_pd['category_match_ratio'] = df_joined_pd['category_match'] / df_joined_pd['hard_skills_category_y_len']\n",
    "df_joined_pd['specific_match_ratio'] = df_joined_pd['specific_match'] / df_joined_pd['hard_skills_category_y_len']"
   ]
  },
  {
   "cell_type": "code",
   "execution_count": 49,
   "id": "0b7cadc4",
   "metadata": {},
   "outputs": [
    {
     "data": {
      "text/plain": [
       "<Axes: xlabel='fit', ylabel='category_match_ratio'>"
      ]
     },
     "execution_count": 49,
     "metadata": {},
     "output_type": "execute_result"
    },
    {
     "data": {
      "image/png": "[encoded data removed]",
      "text/plain": [
       "<Figure size 640x480 with 1 Axes>"
      ]
     },
     "metadata": {},
     "output_type": "display_data"
    }
   ],
   "source": [
    "sns.violinplot(data=df_joined_pd, x='fit', y='category_match_ratio', hue='fit')"
   ]
  },
  {
   "cell_type": "code",
   "execution_count": 50,
   "id": "b24df1da",
   "metadata": {},
   "outputs": [
    {
     "data": {
      "text/plain": [
       "<Axes: xlabel='fit', ylabel='specific_match_ratio'>"
      ]
     },
     "execution_count": 50,
     "metadata": {},
     "output_type": "execute_result"
    },
    {
     "data": {
      "image/png": "[encoded data removed]",
      "text/plain": [
       "<Figure size 640x480 with 1 Axes>"
      ]
     },
     "metadata": {},
     "output_type": "display_data"
    },
    {
     "name": "stderr",
     "output_type": "stream",
     "text": [
      "[Stage 36:========>        (6 + 6) / 12][Stage 42:========>        (6 + 6) / 12]\r"
     ]
    }
   ],
   "source": [
    "sns.violinplot(data=df_joined_pd, x='fit', y='specific_match_ratio', hue='fit')"
   ]
  },
  {
   "cell_type": "markdown",
   "id": "8594e61f",
   "metadata": {},
   "source": [
    "## Soft Skills"
   ]
  },
  {
   "cell_type": "code",
   "execution_count": 70,
   "id": "438b17e6",
   "metadata": {},
   "outputs": [],
   "source": [
    "# Clean soft skills list\n",
    "df_soft_skills_cleaned = df_compare_soft.select('job_id', 'resume_id', 'fit', 'jd_soft_skills', 'soft_skills_matched')\n",
    "df_soft_skills_cleaned = df_soft_skills_cleaned.withColumn(\n",
    "    \"soft_skills_matched\",\n",
    "    F.expr(\"filter(soft_skills_matched, x -> x is not null)\")\n",
    ")\n",
    "df_soft_skills_cleaned = df_soft_skills_cleaned.withColumn(\n",
    "    \"soft_skills_matched\",\n",
    "    F.array_distinct(\"soft_skills_matched\")\n",
    ")"
   ]
  },
  {
   "cell_type": "code",
   "execution_count": 71,
   "id": "c6de447e",
   "metadata": {},
   "outputs": [
    {
     "name": "stderr",
     "output_type": "stream",
     "text": [
      "                                                                                \r"
     ]
    }
   ],
   "source": [
    "df_soft_skills_pd = df_soft_skills_cleaned.toPandas()"
   ]
  },
  {
   "cell_type": "code",
   "execution_count": 76,
   "id": "73b11af9",
   "metadata": {},
   "outputs": [],
   "source": [
    "df_soft_skills_pd['count_skill_match'] = df_soft_skills_pd['soft_skills_matched'].apply(lambda x: len(x))\n",
    "df_soft_skills_pd['count_skill_jd'] = df_soft_skills_pd['jd_soft_skills'].apply(lambda x: len(x))\n",
    "df_soft_skills_pd['skill_match_ratio'] = df_soft_skills_pd['count_skill_match'] / df_soft_skills_pd['count_skill_jd'] "
   ]
  },
  {
   "cell_type": "code",
   "execution_count": 79,
   "id": "5457e30f",
   "metadata": {},
   "outputs": [
    {
     "data": {
      "text/plain": [
       "<Axes: xlabel='fit', ylabel='count_skill_match'>"
      ]
     },
     "execution_count": 79,
     "metadata": {},
     "output_type": "execute_result"
    },
    {
     "data": {
      "image/png": "[encoded data removed]",
      "text/plain": [
       "<Figure size 640x480 with 1 Axes>"
      ]
     },
     "metadata": {},
     "output_type": "display_data"
    }
   ],
   "source": [
    "sns.violinplot(data=df_soft_skills_pd, x='fit', y='count_skill_match', hue='fit')"
   ]
  },
  {
   "cell_type": "code",
   "execution_count": 80,
   "id": "138bd501",
   "metadata": {},
   "outputs": [
    {
     "data": {
      "text/plain": [
       "<Axes: xlabel='fit', ylabel='skill_match_ratio'>"
      ]
     },
     "execution_count": 80,
     "metadata": {},
     "output_type": "execute_result"
    },
    {
     "data": {
      "image/png": "[encoded data removed]",
      "text/plain": [
       "<Figure size 640x480 with 1 Axes>"
      ]
     },
     "metadata": {},
     "output_type": "display_data"
    }
   ],
   "source": [
    "sns.violinplot(data=df_soft_skills_pd, x='fit', y='skill_match_ratio', hue='fit')"
   ]
  }
 ],
 "metadata": {
  "kernelspec": {
   "display_name": "Python 3 (ipykernel)",
   "language": "python",
   "name": "python3"
  },
  "language_info": {
   "codemirror_mode": {
    "name": "ipython",
    "version": 3
   },
   "file_extension": ".py",
   "mimetype": "text/x-python",
   "name": "python",
   "nbconvert_exporter": "python",
   "pygments_lexer": "ipython3",
   "version": "3.12.11"
  }
 },
 "nbformat": 4,
 "nbformat_minor": 5
}
