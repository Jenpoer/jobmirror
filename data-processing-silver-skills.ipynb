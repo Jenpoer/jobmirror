{
 "cells": [
  {
   "cell_type": "code",
   "execution_count": 1,
   "id": "53d76f60",
   "metadata": {},
   "outputs": [],
   "source": [
    "import os\n",
    "import glob\n",
    "\n",
    "from pyspark.sql import SparkSession\n",
    "from pyspark.sql.functions import col, expr, udf, explode, collect_list, array\n",
    "from pyspark.sql.types import StringType\n",
    "from pyspark.sql import functions as F\n",
    "\n",
    "from utils.mongodb_to_parquet import get_pyspark_session\n",
    "from utils.gdrive_utils import connect_to_gdrive, sync_gdrive_db_to_local\n",
    "\n",
    "from pyspark.sql.functions import udf\n",
    "from pyspark.sql.types import StructType, StructField, ArrayType, StringType, FloatType\n",
    "from rapidfuzz import process, fuzz"
   ]
  },
  {
   "cell_type": "markdown",
   "id": "2495f74a",
   "metadata": {},
   "source": [
    "# Import data"
   ]
  },
  {
   "cell_type": "markdown",
   "id": "e56d7369",
   "metadata": {},
   "source": [
    "## Import parquet-ified resumes & JD"
   ]
  },
  {
   "cell_type": "code",
   "execution_count": 2,
   "id": "e720c5f7",
   "metadata": {},
   "outputs": [
    {
     "name": "stdout",
     "output_type": "stream",
     "text": [
      ":: loading settings :: url = jar:file:/usr/local/lib/python3.12/site-packages/pyspark/jars/ivy-2.5.1.jar!/org/apache/ivy/core/settings/ivysettings.xml\n"
     ]
    },
    {
     "name": "stderr",
     "output_type": "stream",
     "text": [
      "Ivy Default Cache set to: /root/.ivy2/cache\n",
      "The jars for the packages stored in: /root/.ivy2/jars\n",
      "org.mongodb.spark#mongo-spark-connector_2.12 added as a dependency\n",
      ":: resolving dependencies :: org.apache.spark#spark-submit-parent-09682370-5076-47b2-8baa-5888b1d48b2e;1.0\n",
      "\tconfs: [default]\n",
      "\tfound org.mongodb.spark#mongo-spark-connector_2.12;10.5.0 in central\n",
      "\tfound org.mongodb#mongodb-driver-sync;5.1.4 in central\n",
      "\t[5.1.4] org.mongodb#mongodb-driver-sync;[5.1.1,5.1.99)\n",
      "\tfound org.mongodb#bson;5.1.4 in central\n",
      "\tfound org.mongodb#mongodb-driver-core;5.1.4 in central\n",
      "\tfound org.mongodb#bson-record-codec;5.1.4 in central\n",
      ":: resolution report :: resolve 3180ms :: artifacts dl 9ms\n",
      "\t:: modules in use:\n",
      "\torg.mongodb#bson;5.1.4 from central in [default]\n",
      "\torg.mongodb#bson-record-codec;5.1.4 from central in [default]\n",
      "\torg.mongodb#mongodb-driver-core;5.1.4 from central in [default]\n",
      "\torg.mongodb#mongodb-driver-sync;5.1.4 from central in [default]\n",
      "\torg.mongodb.spark#mongo-spark-connector_2.12;10.5.0 from central in [default]\n",
      "\t---------------------------------------------------------------------\n",
      "\t|                  |            modules            ||   artifacts   |\n",
      "\t|       conf       | number| search|dwnlded|evicted|| number|dwnlded|\n",
      "\t---------------------------------------------------------------------\n",
      "\t|      default     |   5   |   1   |   0   |   0   ||   5   |   0   |\n",
      "\t---------------------------------------------------------------------\n",
      ":: retrieving :: org.apache.spark#spark-submit-parent-09682370-5076-47b2-8baa-5888b1d48b2e\n",
      "\tconfs: [default]\n",
      "\t0 artifacts copied, 5 already retrieved (0kB/7ms)\n",
      "25/06/14 09:43:16 WARN NativeCodeLoader: Unable to load native-hadoop library for your platform... using builtin-java classes where applicable\n",
      "Setting default log level to \"WARN\".\n",
      "To adjust logging level use sc.setLogLevel(newLevel). For SparkR, use setLogLevel(newLevel).\n"
     ]
    }
   ],
   "source": [
    "spark = get_pyspark_session()"
   ]
  },
  {
   "cell_type": "code",
   "execution_count": 3,
   "id": "659c039a",
   "metadata": {},
   "outputs": [],
   "source": [
    "def read_silver_table(table, silver_db, spark):\n",
    "    \"\"\"\n",
    "    Helper function to read all partitions of a silver table\n",
    "    \"\"\"\n",
    "    folder_path = os.path.join(silver_db, table)\n",
    "    files_list = [os.path.join(folder_path, os.path.basename(f)) for f in glob.glob(os.path.join(folder_path, '*'))]\n",
    "    df = spark.read.option(\"header\", \"true\").parquet(*files_list)\n",
    "    return df"
   ]
  },
  {
   "cell_type": "code",
   "execution_count": 4,
   "id": "504b7842",
   "metadata": {},
   "outputs": [
    {
     "name": "stderr",
     "output_type": "stream",
     "text": [
      "                                                                                \r"
     ]
    }
   ],
   "source": [
    "df_jd = read_silver_table('job_descriptions', 'datamart/silver', spark)\n",
    "df_resumes = read_silver_table('resumes', 'datamart/silver', spark)\n",
    "df_labels = read_silver_table('labels', 'datamart/silver', spark)"
   ]
  },
  {
   "cell_type": "code",
   "execution_count": 5,
   "id": "06bee010",
   "metadata": {},
   "outputs": [],
   "source": [
    "# Select relevant columns for skill processing\n",
    "df_resumes_skills = df_resumes.select('id', 'hard_skills', 'soft_skills') \n",
    "df_jd_skills = df_jd.select('id', 'required_hard_skills', 'required_soft_skills')"
   ]
  },
  {
   "cell_type": "code",
   "execution_count": 6,
   "id": "efbb4297",
   "metadata": {},
   "outputs": [],
   "source": [
    "# Convert to lowercase\n",
    "df_resumes_skills = df_resumes_skills.withColumn(\"hard_skills\", expr(\"transform(hard_skills, x -> lower(x))\"))\n",
    "df_resumes_skills = df_resumes_skills.withColumn(\"soft_skills\", expr(\"transform(soft_skills, x -> lower(x))\"))\n",
    "\n",
    "df_jd_skills = df_jd_skills.withColumn(\"required_hard_skills\", expr(\"transform(required_hard_skills, x -> lower(x))\"))\n",
    "df_jd_skills = df_jd_skills.withColumn(\"required_soft_skills\", expr(\"transform(required_soft_skills, x -> lower(x))\"))"
   ]
  },
  {
   "cell_type": "markdown",
   "id": "91f53e67",
   "metadata": {},
   "source": [
    "## Import skills list silver table"
   ]
  },
  {
   "cell_type": "code",
   "execution_count": 76,
   "id": "a07173f0",
   "metadata": {},
   "outputs": [
    {
     "name": "stderr",
     "output_type": "stream",
     "text": [
      "Downloading data files...: 100%|██████████| 6/6 [00:15<00:00,  2.62s/it]"
     ]
    },
    {
     "name": "stdout",
     "output_type": "stream",
     "text": [
      "Download complete.\n"
     ]
    },
    {
     "name": "stderr",
     "output_type": "stream",
     "text": [
      "\n"
     ]
    }
   ],
   "source": [
    "sync_gdrive_db_to_local()"
   ]
  },
  {
   "cell_type": "markdown",
   "id": "d187a8cc",
   "metadata": {},
   "source": [
    "# Skills Standardization"
   ]
  },
  {
   "cell_type": "code",
   "execution_count": 7,
   "id": "340b995c",
   "metadata": {},
   "outputs": [
    {
     "name": "stderr",
     "output_type": "stream",
     "text": [
      "                                                                                \r"
     ]
    },
    {
     "name": "stdout",
     "output_type": "stream",
     "text": [
      "+----------+--------------------+--------------------+\n",
      "|keyword_id|             keyword|             example|\n",
      "+----------+--------------------+--------------------+\n",
      "|  43232202|document manageme...|adobe systems ado...|\n",
      "|  43232306|data base user in...|     adsense tracker|\n",
      "|  43232201|content workflow ...|      atlassian jira|\n",
      "|  43232303|customer relation...|blackbaud the rai...|\n",
      "|  43231601| accounting software|computerease cons...|\n",
      "|  43232305|data base reporti...|database reportin...|\n",
      "|  43232306|data base user in...|             databox|\n",
      "|  43233501|electronic mail s...|      email software|\n",
      "|  43231602|enterprise resour...|enterprise resour...|\n",
      "|  43231605|time accounting s...|exact software ma...|\n",
      "|  43232403|enterprise applic...|extensible markup...|\n",
      "|  43231601| accounting software|fund accounting s...|\n",
      "|  43232102|graphics or photo...|graphic presentat...|\n",
      "|  43231505|human resources s...|        halogen e360|\n",
      "|  43231505|human resources s...|    halogen epraisal|\n",
      "|  43231507|project managemen...|       hcss heavybid|\n",
      "|  43231507|project managemen...|       hcss heavyjob|\n",
      "|  43231505|human resources s...|human resource in...|\n",
      "|  43231505|human resources s...|infor ssa human c...|\n",
      "|  43231601| accounting software|   intuit quickbooks|\n",
      "+----------+--------------------+--------------------+\n",
      "only showing top 20 rows\n",
      "\n"
     ]
    }
   ],
   "source": [
    "df_hard_skills_keywords = read_silver_table('hardskill', 'datamart/silver', spark)\n",
    "df_hard_skills_keywords.show()"
   ]
  },
  {
   "cell_type": "code",
   "execution_count": 8,
   "id": "618e0c50",
   "metadata": {},
   "outputs": [
    {
     "name": "stdout",
     "output_type": "stream",
     "text": [
      "+----------+--------------------+--------------------+\n",
      "|keyword_id|             keyword|            examples|\n",
      "+----------+--------------------+--------------------+\n",
      "|   2.a.1.a|reading comprehen...| getting information|\n",
      "|   2.a.1.a|reading comprehen...|monitor processes...|\n",
      "|   2.a.1.a|reading comprehen...|identifying objec...|\n",
      "|   2.a.1.a|reading comprehen...|judging the quali...|\n",
      "|   2.a.1.a|reading comprehen...|processing inform...|\n",
      "|   2.a.1.a|reading comprehen...|evaluating inform...|\n",
      "|   2.a.1.a|reading comprehen...|analyzing data or...|\n",
      "|   2.a.1.a|reading comprehen...|making decisions ...|\n",
      "|   2.a.1.a|reading comprehen...|updating and usin...|\n",
      "|   2.a.1.a|reading comprehen...|interacting with ...|\n",
      "|   2.a.1.a|reading comprehen...|drafting, laying ...|\n",
      "|   2.a.1.a|reading comprehen...|interpreting the ...|\n",
      "|   2.a.1.a|reading comprehen...|training and teac...|\n",
      "|   2.a.1.a|reading comprehen...|provide consultat...|\n",
      "|   2.a.1.a|reading comprehen...|performing admini...|\n",
      "|   2.a.1.a|reading comprehen...| getting information|\n",
      "|   2.a.1.a|reading comprehen...|monitor processes...|\n",
      "|   2.a.1.a|reading comprehen...|identifying objec...|\n",
      "|   2.a.1.a|reading comprehen...|judging the quali...|\n",
      "|   2.a.1.a|reading comprehen...|processing inform...|\n",
      "+----------+--------------------+--------------------+\n",
      "only showing top 20 rows\n",
      "\n"
     ]
    }
   ],
   "source": [
    "df_soft_skills_keywords = read_silver_table('softskill', 'datamart/silver', spark)\n",
    "df_soft_skills_keywords.show()"
   ]
  },
  {
   "cell_type": "markdown",
   "id": "bdf0fb0c",
   "metadata": {},
   "source": [
    "## Fuzzy Matching"
   ]
  },
  {
   "cell_type": "code",
   "execution_count": 79,
   "id": "d08e44ce",
   "metadata": {},
   "outputs": [],
   "source": [
    "# df_resumes_skills = df_resumes_skills.withColumnRenamed(\"id\", \"resume_id\")\n",
    "# df_jd_skills = df_jd_skills.withColumnRenamed(\"id\", \"job_id\")\n",
    "# df_joined = df_labels.join(df_resumes_skills, on=\"resume_id\", how=\"inner\") \n",
    "# df_joined = df_joined.join(df_jd_skills, on=\"job_id\", how=\"inner\")\n",
    "# df_joined.show()"
   ]
  },
  {
   "cell_type": "code",
   "execution_count": 23,
   "id": "18efd78c",
   "metadata": {},
   "outputs": [
    {
     "name": "stderr",
     "output_type": "stream",
     "text": [
      "[Stage 11:=================================>                       (7 + 5) / 12]\r"
     ]
    }
   ],
   "source": [
    "def fuzzy_match_array_udf_factory(mapping_dict):\n",
    "    def match_array(arr):\n",
    "        keyword_matches = []\n",
    "        example_matches = []\n",
    "        scores = []\n",
    "\n",
    "        reference_values = list(mapping_dict.keys())\n",
    "        \n",
    "        if arr:\n",
    "            for x in arr:\n",
    "                if x:\n",
    "                    match = process.extractOne(x, reference_values, scorer=fuzz.token_set_ratio)\n",
    "                    score = float(match[1])\n",
    "                    if match and score > 80:\n",
    "                        example_matches.append(match[0])\n",
    "                        keyword_matches.append(mapping_dict[match[0]])\n",
    "                        scores.append(score)  # similarity score as float\n",
    "                    else:\n",
    "                        example_matches.append(None)\n",
    "                        keyword_matches.append(None)\n",
    "                        scores.append(None)\n",
    "                else:\n",
    "                    keyword_matches.append(None)\n",
    "                    example_matches.append(None)\n",
    "                    scores.append(None)\n",
    "            return keyword_matches, example_matches, scores\n",
    "        return None\n",
    "    \n",
    "    schema = StructType([\n",
    "        StructField(\"keyword_matches\", ArrayType(StringType()), nullable=True),\n",
    "        StructField(\"example_matches\", ArrayType(StringType()), nullable=True),\n",
    "        StructField(\"scores\", ArrayType(FloatType()), nullable=True)\n",
    "    ])\n",
    "    \n",
    "    return udf(match_array, schema)\n"
   ]
  },
  {
   "cell_type": "code",
   "execution_count": null,
   "id": "adb07ee4",
   "metadata": {},
   "outputs": [],
   "source": [
    "# import math\n",
    "\n",
    "# def fuzzy_match_array_udf_factory(reference_values):\n",
    "#     counts = Counter(reference_values)\n",
    "#     weighted_choices = [(k, int(v)) for k, v in counts.items()]\n",
    "\n",
    "#     max_weight = counts.most_common(1)[0][1]\n",
    "\n",
    "#     def match_array(arr):\n",
    "#         matches = []\n",
    "#         scores = []\n",
    "        \n",
    "#         if arr:\n",
    "#             for item in arr:\n",
    "#                 best_match = None\n",
    "#                 best_score = -1.0\n",
    "#                 best_original_score = -1.0\n",
    "#                 if item:\n",
    "#                     for ref, weight in weighted_choices:\n",
    "#                         original_score = fuzz.ratio(item, ref)\n",
    "#                         score = fuzz.ratio(item, ref) + math.log(weight)\n",
    "#                         if score > best_score:\n",
    "#                             best_score = score\n",
    "#                             best_original_score = original_score\n",
    "#                             best_match = ref\n",
    "#                 matches.append(best_match)\n",
    "#                 scores.append(best_original_score)\n",
    "#             return matches, scores\n",
    "#         return None\n",
    "    \n",
    "#     schema = StructType([\n",
    "#         StructField(\"matches\", ArrayType(StringType()), nullable=True),\n",
    "#         StructField(\"scores\", ArrayType(FloatType()), nullable=True)\n",
    "#     ])\n",
    "    \n",
    "#     return udf(match_array, schema)\n"
   ]
  },
  {
   "cell_type": "markdown",
   "id": "39ff4fc5",
   "metadata": {},
   "source": [
    "**Hard skills convert to keywords**"
   ]
  },
  {
   "cell_type": "markdown",
   "id": "2d1f14fb",
   "metadata": {},
   "source": [
    "Standardize hard skills"
   ]
  },
  {
   "cell_type": "code",
   "execution_count": null,
   "id": "4482be0e",
   "metadata": {},
   "outputs": [
    {
     "name": "stderr",
     "output_type": "stream",
     "text": [
      "[Stage 11:===========>     (8 + 4) / 12][Stage 23:>                 (0 + 1) / 1]\r"
     ]
    },
    {
     "name": "stdout",
     "output_type": "stream",
     "text": [
      "+------------+--------------------+--------------------+--------------------+------------------------+-----------------------------+\n",
      "|          id|         hard_skills|         soft_skills|hard_skills_category|hard_skills_standardized|hard_skills_similarity_scores|\n",
      "+------------+--------------------+--------------------+--------------------+------------------------+-----------------------------+\n",
      "|RES_s93wTCLp|[atm, c++, ccna, ...|[clients, procure...|[NULL, object or ...|    [NULL, c++, NULL,...|         [NULL, 100.0, NUL...|\n",
      "|RES_Z7yf1tu6|[sql, pl/sql, tra...|[communication, t...|[data base user i...|    [structured query...|         [100.0, 100.0, 10...|\n",
      "|RES_hAp1XnJZ|[database design,...|[excellent commun...|[data base manage...|    [database design ...|         [100.0, NULL, NUL...|\n",
      "|RES_zsgGxd2s|[microsoft access...|[collaboration, c...|[data base user i...|    [microsoft access...|         [100.0, 100.0, NU...|\n",
      "|RES_RrDNNvMz|[r, sql, data ana...|[innovative, deta...|[object or compon...|    [r, structured qu...|         [100.0, 100.0, 10...|\n",
      "|RES_7rYoKTcb|[matlab, simulink...|[communication, t...|[analytical or sc...|    [the mathworks ma...|         [100.0, 100.0, 86...|\n",
      "|RES_dI74kKQw|[html, html5, css...|[project leadersh...|[web platform dev...|    [hypertext markup...|         [100.0, 100.0, 10...|\n",
      "|RES_AAwaK8NY|[financial planni...|[communication, p...|[financial analys...|    [financial planni...|         [100.0, 100.0, 10...|\n",
      "|RES_jxAmUMgn|[java, javascript...|[account manageme...|[object or compon...|    [oracle java, jav...|         [100.0, 100.0, 10...|\n",
      "|RES_fTYeywv1|[sap, as400, cams...|[managing, counse...|[enterprise resou...|    [sap, NULL, NULL,...|         [100.0, NULL, NUL...|\n",
      "|RES_ZZpNAyeK|[python 3.x, r, s...|[strong decision-...|[object or compon...|    [python, r, struc...|         [100.0, 100.0, 10...|\n",
      "|RES_l7IXSfv7|[python, r, table...|[excellent commun...|[object or compon...|    [python, r, table...|         [100.0, 100.0, 10...|\n",
      "|RES_vwWeZTDF|[microsoft word, ...|[communication, t...|[word processing ...|    [microsoft word, ...|         [100.0, 100.0, 10...|\n",
      "|RES_kL06mNvW|[sql, python, jup...|[automation, clie...|[data base user i...|    [structured query...|         [100.0, 100.0, 10...|\n",
      "|RES_gLmc70sy|[order processing...|[time management,...|[NULL, spreadshee...|    [NULL, restaurant...|         [NULL, 100.0, 100...|\n",
      "|RES_iFHwzwmT|[data modelling, ...|[detail-oriented,...|[NULL, analytical...|    [NULL, business a...|         [NULL, 100.0, 100...|\n",
      "|RES_WEgsEJYj|[java, c, c++, xm...|[interpersonal sk...|[object or compon...|    [oracle java, c, ...|         [100.0, 100.0, 10...|\n",
      "|RES_JgJdoXyt|[sql, pl/sql, t-s...|[communication, t...|[data base user i...|    [structured query...|         [100.0, 100.0, 10...|\n",
      "|RES_EZITWfdb|[j2ee, spring, sp...|[documentation, m...|[development envi...|    [oracle java 2 pl...|         [100.0, 100.0, 10...|\n",
      "|RES_fqhdZazg|[c#, php, asp.net...|[professional, cr...|[object or compon...|    [c#, hypertext pr...|         [100.0, 100.0, 10...|\n",
      "+------------+--------------------+--------------------+--------------------+------------------------+-----------------------------+\n",
      "only showing top 20 rows\n",
      "\n"
     ]
    },
    {
     "name": "stderr",
     "output_type": "stream",
     "text": [
      "                                                                                \r"
     ]
    },
    {
     "name": "stderr",
     "output_type": "stream",
     "text": [
      "[Stage 11:==========================================>              (9 + 3) / 12]\r"
     ]
    }
   ],
   "source": [
    "hard_skills_ref = df_hard_skills_keywords.select(\"example\").rdd.flatMap(lambda x: x).collect()\n",
    "\n",
    "mapping_dict = dict(df_hard_skills_keywords.rdd.map(lambda row: (row['example'], row['keyword'])).collect())\n",
    "\n",
    "fuzzy_match_udf = fuzzy_match_array_udf_factory(mapping_dict)\n",
    "\n",
    "df_matched = df_resumes_skills.withColumn(\"hard_skills_fuzzy\", fuzzy_match_udf(\"hard_skills\"))\n",
    "\n",
    "df_matched = df_matched \\\n",
    "    .withColumn(\"hard_skills_category\", df_matched[\"hard_skills_fuzzy\"][\"keyword_matches\"]) \\\n",
    "    .withColumn(\"hard_skills_standardized\", df_matched[\"hard_skills_fuzzy\"][\"example_matches\"]) \\\n",
    "    .withColumn(\"hard_skills_similarity_scores\", df_matched[\"hard_skills_fuzzy\"][\"scores\"]) \\\n",
    "    .drop(\"hard_skills_fuzzy\")\n",
    "\n",
    "df_matched.show()"
   ]
  },
  {
   "cell_type": "code",
   "execution_count": 84,
   "id": "59991a08",
   "metadata": {},
   "outputs": [],
   "source": [
    "\n",
    "# # reference_list = [\"java\", \"python\", \"sql\", \"machine learning\"]\n",
    "\n",
    "# # def fuzzy_match_array_udf_factory(reference_values):\n",
    "# #     def match_array(arr):\n",
    "# #         if arr:\n",
    "# #             # For each element, find the best fuzzy match in reference_values\n",
    "# #             return [process.extractOne(x, reference_values)[0] if x else None for x in arr]\n",
    "# #         return None\n",
    "# #     return udf(match_array, ArrayType(StringType()))\n",
    "\n",
    "\n",
    "# # Only the match\n",
    "# # def fuzzy_match_array_udf_factory():\n",
    "# #     def match_array(arr1, arr2):\n",
    "# #         if arr1 and arr2:\n",
    "# #             return [\n",
    "# #                 process.extractOne(x, arr2)[0] if x else None\n",
    "# #                 for x in arr1\n",
    "# #             ]\n",
    "# #         return None\n",
    "# #     return udf(match_array, ArrayType(StringType()))\n",
    "\n",
    "# # Match and score\n",
    "# def fuzzy_match_array_udf_factory():\n",
    "#     def match_array(arr1, arr2):\n",
    "#         if arr1 and arr2:\n",
    "#             matches = []\n",
    "#             scores = []\n",
    "#             for x in arr1:\n",
    "#                 if x:\n",
    "#                     match = process.extractOne(x, arr2)\n",
    "#                     if match:\n",
    "#                         matches.append(match[0])\n",
    "#                         scores.append(float(match[1]))  # similarity score as float\n",
    "#                     else:\n",
    "#                         matches.append(None)\n",
    "#                         scores.append(None)\n",
    "#                 else:\n",
    "#                     matches.append(None)\n",
    "#                     scores.append(None)\n",
    "#             return matches, scores\n",
    "#         return None, None\n",
    "    \n",
    "#     schema = StructType([\n",
    "#         StructField(\"matches\", ArrayType(StringType()), nullable=True),\n",
    "#         StructField(\"scores\", ArrayType(FloatType()), nullable=True)\n",
    "#     ])\n",
    "#     return udf(match_array, schema)\n",
    "\n",
    "\n",
    "# fuzzy_match_udf = fuzzy_match_array_udf_factory()\n",
    "\n",
    "# df_matched = df_joined.withColumn(\"hard_skills_fuzzy\", fuzzy_match_udf(\"hard_skills\", \"required_hard_skills\"))\n",
    "\n",
    "# df_matched = df_matched \\\n",
    "#     .withColumn(\"hard_skills_matched\", df_matched[\"hard_skills_fuzzy\"][\"matches\"]) \\\n",
    "#     .withColumn(\"hard_skills_similarity_scores\", df_matched[\"hard_skills_fuzzy\"][\"scores\"]) \\\n",
    "#     .drop(\"hard_skills_fuzzy\")\n",
    "\n",
    "# df_matched.show()\n"
   ]
  },
  {
   "cell_type": "code",
   "execution_count": 25,
   "id": "5d71a587",
   "metadata": {},
   "outputs": [
    {
     "name": "stdout",
     "output_type": "stream",
     "text": [
      "Original skill: atm, Matched category: None, Keyword: None, Score: None\n",
      "Original skill: c++, Matched category: object or component oriented development software, Keyword: c++, Score: 100.0\n",
      "Original skill: ccna, Matched category: None, Keyword: None, Score: None\n",
      "Original skill: cisco, Matched category: access software, Keyword: cisco anyconnect, Score: 100.0\n",
      "Original skill: dsl, Matched category: None, Keyword: None, Score: None\n",
      "Original skill: ethernet, Matched category: None, Keyword: None, Score: None\n",
      "Original skill: lan, Matched category: lan software, Keyword: lan software, Score: 100.0\n",
      "Original skill: linux, Matched category: operating system software, Keyword: linux, Score: 100.0\n",
      "Original skill: lotus notes, Matched category: electronic mail software, Keyword: ibm lotus notes, Score: 100.0\n",
      "Original skill: matlab, Matched category: analytical or scientific software, Keyword: the mathworks matlab, Score: 100.0\n",
      "Original skill: microsoft excel, Matched category: spreadsheet software, Keyword: microsoft excel, Score: 100.0\n",
      "Original skill: outlook, Matched category: electronic mail software, Keyword: microsoft outlook, Score: 100.0\n",
      "Original skill: power point, Matched category: presentation software, Keyword: microsoft power point, Score: 100.0\n",
      "Original skill: windows, Matched category: operating system software, Keyword: microsoft windows, Score: 100.0\n",
      "Original skill: word, Matched category: word processing software, Keyword: microsoft word, Score: 100.0\n",
      "Original skill: networking, Matched category: network security or virtual private network vpn management software, Keyword: virtual private networking vpn software, Score: 100.0\n",
      "Original skill: ospf, Matched category: internet protocol ip multimedia subsystem software, Keyword: open shortest path first ospf, Score: 100.0\n",
      "Original skill: python, Matched category: object or component oriented development software, Keyword: python, Score: 100.0\n",
      "Original skill: routing, Matched category: switch or router software, Keyword: enhanced interior gateway routing protocol eigrp, Score: 100.0\n",
      "Original skill: scada, Matched category: industrial control software, Keyword: supervisory control and data acquisition scada software, Score: 100.0\n",
      "Original skill: tcp/ip, Matched category: None, Keyword: None, Score: None\n",
      "Original skill: telecom, Matched category: None, Keyword: None, Score: None\n",
      "Original skill: vpn, Matched category: network security or virtual private network vpn management software, Keyword: virtual private networking vpn software, Score: 100.0\n",
      "Original skill: wan, Matched category: wan switching software and firmware, Keyword: cisco systems wan manager, Score: 100.0\n"
     ]
    }
   ],
   "source": [
    "row = df_matched.filter(df_matched.id == \"RES_s93wTCLp\").first().asDict()\n",
    "for skill, category, keyword, score in zip(row['hard_skills'],\n",
    "                        row['hard_skills_category'], \n",
    "                        row['hard_skills_standardized'],\n",
    "                        row['hard_skills_similarity_scores']):\n",
    "    print(f\"Original skill: {skill}, Matched category: {category}, Keyword: {keyword}, Score: {score}\"  )"
   ]
  },
  {
   "cell_type": "markdown",
   "id": "7a235e6c",
   "metadata": {},
   "source": [
    "Convert hard skills to keyword"
   ]
  },
  {
   "cell_type": "markdown",
   "id": "cc062ac9",
   "metadata": {},
   "source": [
    "**Soft skills convert to keywords**"
   ]
  },
  {
   "cell_type": "code",
   "execution_count": 44,
   "id": "9eee0d10",
   "metadata": {},
   "outputs": [
    {
     "name": "stdout",
     "output_type": "stream",
     "text": [
      "+------------+--------------------+--------------------+--------------------+-----------------------------+\n",
      "|          id|         hard_skills|         soft_skills| soft_skills_matched|soft_skills_similarity_scores|\n",
      "+------------+--------------------+--------------------+--------------------+-----------------------------+\n",
      "|RES_s93wTCLp|[atm, c++, ccna, ...|[clients, procure...|[active listening...|         [43.47826, 38.461...|\n",
      "|RES_Z7yf1tu6|[sql, pl/sql, tra...|[communication, t...|[coordination, sp...|         [64.0, 37.5, 40.0...|\n",
      "|RES_hAp1XnJZ|[database design,...|[excellent commun...|[service orientat...|         [44.89796, 48.780...|\n",
      "|RES_zsgGxd2s|[microsoft access...|[collaboration, c...|[coordination, se...|         [72.0, 60.869564,...|\n",
      "|RES_RrDNNvMz|[r, sql, data ana...|[innovative, deta...|[service orientat...|         [48.275864, 47.05...|\n",
      "|RES_7rYoKTcb|[matlab, simulink...|[communication, t...|[coordination, sp...|         [64.0, 37.5, 40.0...|\n",
      "|RES_dI74kKQw|[html, html5, css...|[project leadersh...|[judgment and dec...|         [39.130436, 100.0...|\n",
      "|RES_AAwaK8NY|[financial planni...|[communication, p...|[coordination, co...|         [64.0, 100.0, 66....|\n",
      "|RES_jxAmUMgn|[java, javascript...|[account manageme...|[time management,...|         [80.0, 40.0, 34.7...|\n",
      "|RES_fTYeywv1|[sap, as400, cams...|[managing, counse...|[monitoring, spea...|         [55.555557, 55.55...|\n",
      "|RES_ZZpNAyeK|[python 3.x, r, s...|[strong decision-...|[judgment and dec...|         [53.061226, 38.80...|\n",
      "|RES_l7IXSfv7|[python, r, table...|[excellent commun...|[service orientat...|         [44.89796, 62.068...|\n",
      "|RES_vwWeZTDF|[microsoft word, ...|[communication, t...|[coordination, sp...|         [64.0, 37.5, 40.0...|\n",
      "|RES_kL06mNvW|[sql, python, jup...|[automation, clie...|[negotiation, tim...|         [57.142857, 81.25...|\n",
      "|RES_gLmc70sy|[order processing...|[time management,...|[time management,...|         [100.0, 44.89796,...|\n",
      "|RES_iFHwzwmT|[data modelling, ...|[detail-oriented,...|[service orientat...|         [47.058823, 52.83...|\n",
      "|RES_WEgsEJYj|[java, c, c++, xm...|[interpersonal sk...|[persuasion, writ...|         [46.666668, 52.63...|\n",
      "|RES_JgJdoXyt|[sql, pl/sql, t-s...|[communication, t...|[coordination, sp...|         [64.0, 37.5, 40.0...|\n",
      "|RES_EZITWfdb|[j2ee, spring, sp...|[documentation, m...|[negotiation, mon...|         [58.333332, 55.55...|\n",
      "|RES_fqhdZazg|[c#, php, asp.net...|[professional, cr...|[persuasion, serv...|         [63.636364, 51.85...|\n",
      "+------------+--------------------+--------------------+--------------------+-----------------------------+\n",
      "only showing top 20 rows\n",
      "\n"
     ]
    }
   ],
   "source": [
    "soft_skills_ref = df_soft_skills_keywords.select(\"keyword\").dropDuplicates().rdd.flatMap(lambda x: x).collect()\n",
    "\n",
    "fuzzy_match_udf = fuzzy_match_array_udf_factory(soft_skills_ref)\n",
    "\n",
    "df_matched_soft = df_resumes_skills.withColumn(\"soft_skills_fuzzy\", fuzzy_match_udf(\"soft_skills\"))\n",
    "\n",
    "df_matched_soft = df_matched_soft \\\n",
    "    .withColumn(\"soft_skills_matched\", df_matched_soft[\"soft_skills_fuzzy\"][\"matches\"]) \\\n",
    "    .withColumn(\"soft_skills_similarity_scores\", df_matched_soft[\"soft_skills_fuzzy\"][\"scores\"]) \\\n",
    "    .drop(\"soft_skills_fuzzy\")\n",
    "\n",
    "df_matched_soft.show()"
   ]
  },
  {
   "cell_type": "code",
   "execution_count": 45,
   "id": "20919287",
   "metadata": {},
   "outputs": [
    {
     "name": "stdout",
     "output_type": "stream",
     "text": [
      "Original skill: communication, Matched word: coordination, Score: 64.0\n",
      "Original skill: teamwork, Matched word: speaking, Score: 37.5\n",
      "Original skill: leadership, Matched word: active learning, Score: 40.0\n",
      "Original skill: problem-solving, Matched word: complex problem solving, Score: 73.68421173095703\n",
      "Original skill: analytical skills, Matched word: critical thinking, Score: 47.05882263183594\n",
      "Original skill: project management, Matched word: time management, Score: 80.0\n",
      "Original skill: client handling, Matched word: active learning, Score: 60.0\n",
      "Original skill: written communication skills, Matched word: service orientation, Score: 51.0638313293457\n"
     ]
    }
   ],
   "source": [
    "row = df_matched_soft.filter(df_matched_soft.id == \"RES_mSxlSENu\").first().asDict()\n",
    "for skill, match, score in zip(row['soft_skills'],\n",
    "                        row['soft_skills_matched'], \n",
    "                        row['soft_skills_similarity_scores']):\n",
    "    print(f\"Original skill: {skill}, Matched word: {match}, Score: {score}\"  )"
   ]
  },
  {
   "cell_type": "markdown",
   "id": "a36b3bd4",
   "metadata": {},
   "source": [
    "## Embedding"
   ]
  },
  {
   "cell_type": "code",
   "execution_count": null,
   "id": "db72762d",
   "metadata": {},
   "outputs": [],
   "source": [
    "from langchain_core.vectorstores import InMemoryVectorStore\n",
    "from langchain_mistralai import MistralAIEmbeddings\n",
    "\n",
    "def embed_match_array_udf_factory(keywords_list):\n",
    "\n",
    "    def match_array(arr):\n",
    "        embeddings = MistralAIEmbeddings(model=\"mistral-embed\")\n",
    "   \n",
    "        vectorstore = InMemoryVectorStore.from_texts(\n",
    "            keywords_list,\n",
    "            embedding=embeddings\n",
    "        )\n",
    "        \n",
    "        if arr:\n",
    "            matches = []\n",
    "            scores = []\n",
    "\n",
    "            for x in arr:\n",
    "                if x:\n",
    "                    result = vectorstore.similarity_search_with_score(x, k=1)\n",
    "                    top_doc, score = result[0]\n",
    "\n",
    "                    matches.append(top_doc.page_content)\n",
    "                    scores.append(score)\n",
    "\n",
    "            return matches, scores\n",
    "        return None, None\n",
    "        \n",
    "    schema = StructType([\n",
    "        StructField(\"matches\", ArrayType(StringType()), nullable=True),\n",
    "        StructField(\"scores\", ArrayType(FloatType()), nullable=True)\n",
    "    ])\n",
    "    \n",
    "    return udf(match_array, schema)\n"
   ]
  },
  {
   "cell_type": "code",
   "execution_count": 50,
   "id": "af0c0f26",
   "metadata": {},
   "outputs": [
    {
     "name": "stderr",
     "output_type": "stream",
     "text": [
      "/usr/local/lib/python3.12/site-packages/langchain_mistralai/embeddings.py:181: UserWarning: Could not download mistral tokenizer from Huggingface for calculating batch sizes. Set a Huggingface token via the HF_TOKEN environment variable to download the real tokenizer. Falling back to a dummy tokenizer that uses `len()`.\n",
      "  warnings.warn(\n",
      "[Stage 79:>                                                         (0 + 1) / 1]\r"
     ]
    },
    {
     "name": "stdout",
     "output_type": "stream",
     "text": [
      "+------------+--------------------+--------------------+--------------------+-----------------------------+\n",
      "|          id|         hard_skills|         soft_skills| soft_skills_matched|soft_skills_similarity_scores|\n",
      "+------------+--------------------+--------------------+--------------------+-----------------------------+\n",
      "|RES_s93wTCLp|[atm, c++, ccna, ...|[clients, procure...|[writing, negotia...|         [0.6538537, 0.714...|\n",
      "|RES_Z7yf1tu6|[sql, pl/sql, tra...|[communication, t...|[speaking, coordi...|         [0.7909141, 0.760...|\n",
      "|RES_hAp1XnJZ|[database design,...|[excellent commun...|[active listening...|         [0.74233043, 0.72...|\n",
      "|RES_zsgGxd2s|[microsoft access...|[collaboration, c...|[coordination, se...|         [0.7823948, 0.755...|\n",
      "|RES_RrDNNvMz|[r, sql, data ana...|[innovative, deta...|[critical thinkin...|         [0.6805059, 0.726...|\n",
      "|RES_7rYoKTcb|[matlab, simulink...|[communication, t...|[speaking, coordi...|         [0.7909141, 0.760...|\n",
      "|RES_dI74kKQw|[html, html5, css...|[project leadersh...|[management of pe...|         [0.66337484, 0.83...|\n",
      "|RES_AAwaK8NY|[financial planni...|[communication, p...|[speaking, comple...|         [0.7909141, 0.878...|\n",
      "|RES_jxAmUMgn|[java, javascript...|[account manageme...|[time management,...|         [0.7684332, 0.729...|\n",
      "|RES_fTYeywv1|[sap, as400, cams...|[managing, counse...|[time management,...|         [0.81597686, 0.70...|\n",
      "|RES_ZZpNAyeK|[python 3.x, r, s...|[strong decision-...|[judgment and dec...|         [0.781489, 0.6579...|\n",
      "|RES_l7IXSfv7|[python, r, table...|[excellent commun...|[active listening...|         [0.74233043, 0.84...|\n",
      "|RES_vwWeZTDF|[microsoft word, ...|[communication, t...|[speaking, coordi...|         [0.7909141, 0.760...|\n",
      "|RES_kL06mNvW|[sql, python, jup...|[automation, clie...|[operation and co...|         [0.69669497, 0.72...|\n",
      "|RES_gLmc70sy|[order processing...|[time management,...|[time management,...|         [0.9999674, 0.742...|\n",
      "|RES_iFHwzwmT|[data modelling, ...|[detail-oriented,...|[service orientat...|         [0.7260685, 0.649...|\n",
      "|RES_WEgsEJYj|[java, c, c++, xm...|[interpersonal sk...|[active listening...|         [0.748868, 0.6856...|\n",
      "|RES_JgJdoXyt|[sql, pl/sql, t-s...|[communication, t...|[speaking, coordi...|         [0.7909141, 0.760...|\n",
      "|RES_EZITWfdb|[j2ee, spring, sp...|[documentation, m...|[writing, time ma...|         [0.7326061, 0.815...|\n",
      "|RES_fqhdZazg|[c#, php, asp.net...|[professional, cr...|[writing, writing...|         [0.68776745, 0.74...|\n",
      "+------------+--------------------+--------------------+--------------------+-----------------------------+\n",
      "only showing top 20 rows\n",
      "\n"
     ]
    },
    {
     "name": "stderr",
     "output_type": "stream",
     "text": [
      "                                                                                \r"
     ]
    }
   ],
   "source": [
    "soft_skills_ref = df_soft_skills_keywords.select(\"keyword\").dropDuplicates().rdd.flatMap(lambda x: x).collect()\n",
    "\n",
    "embed_match_udf = embed_match_array_udf_factory(soft_skills_ref)\n",
    "\n",
    "df_matched_soft = df_resumes_skills.withColumn(\"soft_skills_embed\", embed_match_udf(\"soft_skills\"))\n",
    "\n",
    "df_matched_soft = df_matched_soft \\\n",
    "    .withColumn(\"soft_skills_matched\", df_matched_soft[\"soft_skills_embed\"][\"matches\"]) \\\n",
    "    .withColumn(\"soft_skills_similarity_scores\", df_matched_soft[\"soft_skills_embed\"][\"scores\"]) \\\n",
    "    .drop(\"soft_skills_embed\")\n",
    "\n",
    "df_matched_soft.show()"
   ]
  },
  {
   "cell_type": "code",
   "execution_count": 51,
   "id": "5d40de21",
   "metadata": {},
   "outputs": [
    {
     "name": "stderr",
     "output_type": "stream",
     "text": [
      "/usr/local/lib/python3.12/site-packages/langchain_mistralai/embeddings.py:181: UserWarning: Could not download mistral tokenizer from Huggingface for calculating batch sizes. Set a Huggingface token via the HF_TOKEN environment variable to download the real tokenizer. Falling back to a dummy tokenizer that uses `len()`.\n",
      "  warnings.warn(\n"
     ]
    },
    {
     "name": "stdout",
     "output_type": "stream",
     "text": [
      "Original skill: communication, Matched word: speaking, Score: 0.7909141182899475\n",
      "Original skill: teamwork, Matched word: coordination, Score: 0.7602235078811646\n",
      "Original skill: leadership, Matched word: critical thinking, Score: 0.747788667678833\n",
      "Original skill: problem-solving, Matched word: complex problem solving, Score: 0.8326230049133301\n",
      "Original skill: analytical skills, Matched word: critical thinking, Score: 0.777920126914978\n",
      "Original skill: project management, Matched word: time management, Score: 0.82828289270401\n",
      "Original skill: client handling, Matched word: management of personnel resources, Score: 0.6217860579490662\n",
      "Original skill: written communication skills, Matched word: writing, Score: 0.7942733764648438\n"
     ]
    },
    {
     "name": "stderr",
     "output_type": "stream",
     "text": [
      "                                                                                \r"
     ]
    }
   ],
   "source": [
    "row = df_matched_soft.filter(df_matched_soft.id == \"RES_mSxlSENu\").first().asDict()\n",
    "for skill, match, score in zip(row['soft_skills'],\n",
    "                        row['soft_skills_matched'], \n",
    "                        row['soft_skills_similarity_scores']):\n",
    "    print(f\"Original skill: {skill}, Matched word: {match}, Score: {score}\"  )"
   ]
  }
 ],
 "metadata": {
  "kernelspec": {
   "display_name": "Python 3 (ipykernel)",
   "language": "python",
   "name": "python3"
  },
  "language_info": {
   "codemirror_mode": {
    "name": "ipython",
    "version": 3
   },
   "file_extension": ".py",
   "mimetype": "text/x-python",
   "name": "python",
   "nbconvert_exporter": "python",
   "pygments_lexer": "ipython3",
   "version": "3.12.11"
  }
 },
 "nbformat": 4,
 "nbformat_minor": 5
}
