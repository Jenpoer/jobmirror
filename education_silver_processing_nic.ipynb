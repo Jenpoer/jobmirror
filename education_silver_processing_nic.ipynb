{
 "cells": [
  {
   "cell_type": "markdown",
   "id": "54111902",
   "metadata": {},
   "source": [
    "## Processing of Job Descriptions Required Education\n",
    "\n",
    "Goal:</br>\n",
    "Transform the single variable 'required_education' to two variables 'required_education_level' 'required_education_field'\n",
    "\n",
    "Assumtions:</br>\n",
    "- Choose education level based on lowest level referred to (e.g. bachelor required, master preferred --> bachelor)\n",
    "- something else?"
   ]
  },
  {
   "cell_type": "code",
   "execution_count": 15,
   "id": "c401acca",
   "metadata": {},
   "outputs": [],
   "source": [
    "# Initialisation\n",
    "from pyspark.sql import SparkSession, DataFrame\n",
    "from pyspark.sql import functions as F\n",
    "from pyspark.sql import types as T\n",
    "\n",
    "from utils.spark_utils import pyspark_df_info"
   ]
  },
  {
   "cell_type": "code",
   "execution_count": 16,
   "id": "8f9e8d29",
   "metadata": {},
   "outputs": [],
   "source": [
    "spark = SparkSession.builder \\\n",
    "    .appName(\"Silver Processing Education\") \\\n",
    "    .master(\"local[*]\") \\\n",
    "    .getOrCreate()\n",
    "spark.sparkContext.setLogLevel(\"ERROR\")"
   ]
  },
  {
   "cell_type": "code",
   "execution_count": 17,
   "id": "9c787627",
   "metadata": {},
   "outputs": [
    {
     "name": "stdout",
     "output_type": "stream",
     "text": [
      "\n",
      "Total entries: 6241\n",
      "Data columns (total 32 columns):\n",
      "#   Column                    Non-Null Count     Dtype          \n",
      "--- ------------------------- ------------------ ---------------\n",
      "0   resume_id                 6241               string         \n",
      "1   job_id                    6241               string         \n",
      "2   _id                       6241               string         \n",
      "3   fit                       6241               string         \n",
      "4   snapshot_date             6241               date           \n",
      "5   fit_score                 6241               double         \n",
      "6   company_name              3908               string         \n",
      "7   role_title                6046               string         \n",
      "8   employment_type           6196               string         \n",
      "9   job_location              4075               string         \n",
      "10  about_the_company         3664               string         \n",
      "11  job_responsibilities      6241               array<string>  \n",
      "12  required_hard_skills      6241               array<string>  \n",
      "13  required_soft_skills      6241               array<string>  \n",
      "14  required_language_proficiencies 6241               array<string>  \n",
      "15  required_education        4378               string         \n",
      "16  required_work_authorization 1141               string         \n",
      "17  jd_certifications         6241               array<string>  \n",
      "18  job_snapshot              6241               date           \n",
      "19  name                      237                string         \n",
      "20  location_preference       146                string         \n",
      "21  work_authorization        131                string         \n",
      "22  employment_type_preference 304                string         \n",
      "23  hard_skills               6241               array<string>  \n",
      "24  soft_skills               6241               array<string>  \n",
      "25  languages                 6241               array<string>  \n",
      "26  experience                6241               array<struct<role:string,company:string,date_start:string,date_end:string,role_description:string,snapshot_date:string,id:string>>\n",
      "27  education                 6241               array<struct<degree:string,institution:string,date_start:string,date_end:string,grade:double,description:string,snapshot_date:string,id:string>>\n",
      "28  resume_certifications     6241               array<string>  \n",
      "29  resume_snapshot           6241               string         \n",
      "30  YoE                       6126               float          \n",
      "31  exp_sim                   6241               float          \n",
      "\n",
      "\n"
     ]
    }
   ],
   "source": [
    "# Loading data \n",
    "df = spark.read.parquet('data/silver/*.parquet')\n",
    "pyspark_df_info(df)"
   ]
  },
  {
   "cell_type": "code",
   "execution_count": 18,
   "id": "8e746138",
   "metadata": {},
   "outputs": [
    {
     "name": "stdout",
     "output_type": "stream",
     "text": [
      "+-----------+------------------------+-------------+------------+--------------------------------------------------------------------------------------------------+\n",
      "|job_id     |_id                     |snapshot_date|job_snapshot|required_education                                                                                |\n",
      "+-----------+------------------------+-------------+------------+--------------------------------------------------------------------------------------------------+\n",
      "|JD_s93wTCLp|6845479b07df3572368fc32c|2021-07-15   |2021-07-15  |NULL                                                                                              |\n",
      "|JD_Z7yf1tu6|684547e670634603a66d8deb|2021-07-24   |2021-07-24  |Bachelor's degree in computer science or a related discipline required. Master's degree preferred.|\n",
      "|JD_hAp1XnJZ|684547ed70634603a66d8def|2021-07-21   |2021-07-21  |NULL                                                                                              |\n",
      "|JD_zsgGxd2s|684547f370634603a66d8df3|2021-07-30   |2021-07-30  |NULL                                                                                              |\n",
      "|JD_RrDNNvMz|684547f470634603a66d8df4|2021-07-13   |2021-07-13  |Bachelor's degree in Business Administration, Information Technology, or a related field          |\n",
      "+-----------+------------------------+-------------+------------+--------------------------------------------------------------------------------------------------+\n",
      "only showing top 5 rows\n",
      "\n",
      "Total records: 6241\n",
      "Records after filtering nulls: 4378\n"
     ]
    }
   ],
   "source": [
    "# Filtering to relevant columns & removing null values\n",
    "df_education = df['job_id', '_id', 'snapshot_date', 'job_snapshot', 'required_education']\n",
    "df_education.show(5, truncate=False)\n",
    "print(f\"Total records: {df_education.count()}\")\n",
    "\n",
    "df_education = df_education.filter(F.col('required_education').isNotNull())\n",
    "print(f\"Records after filtering nulls: {df_education.count()}\")"
   ]
  },
  {
   "cell_type": "code",
   "execution_count": 19,
   "id": "50a2c9e2",
   "metadata": {},
   "outputs": [
    {
     "name": "stdout",
     "output_type": "stream",
     "text": [
      "+------------------+-----------+------------------------------------------------------+------------------------------------------------------------------------------------------+\n",
      "|level_name        |level_scale|level_description                                     |level_references                                                                          |\n",
      "+------------------+-----------+------------------------------------------------------+------------------------------------------------------------------------------------------+\n",
      "|High School       |1          |Completion of high school or equivalent               |[high school, ged, secondary, college, diploma]                                           |\n",
      "|Associate's Degree|2          |Completion of a two-year degree program or certificate|[associate's, a.a, a.s, a.a.s, certificate]                                               |\n",
      "|Bachelor's Degree |3          |Completion of a undergraduate degree program          |[bachelor, bachelor's degree, bachelor's in, undergraduate degree, ba, bs, bsc, bba, beng]|\n",
      "|Master's Degree   |4          |Completion of a postgraduate degree program           |[master, master's degree, master's in, postgraduate degree, ma, ms, msc, mba, m.eng]      |\n",
      "|Doctorate         |5          |Completion of a doctoral degree program               |[phd, md, jd, doctor, doctorate, doctorate degree, doctoral degree]                       |\n",
      "+------------------+-----------+------------------------------------------------------+------------------------------------------------------------------------------------------+\n",
      "\n",
      "\n",
      "Total entries: 5\n",
      "Data columns (total 4 columns):\n",
      "#   Column                    Non-Null Count     Dtype          \n",
      "--- ------------------------- ------------------ ---------------\n",
      "0   level_name                5                  string         \n",
      "1   level_scale               5                  int            \n",
      "2   level_description         5                  string         \n",
      "3   level_references          5                  array<string>  \n",
      "\n",
      "\n",
      "\n",
      "Total entries: 5\n",
      "Data columns (total 4 columns):\n",
      "#   Column                    Non-Null Count     Dtype          \n",
      "--- ------------------------- ------------------ ---------------\n",
      "0   level_name                5                  string         \n",
      "1   level_scale               5                  int            \n",
      "2   level_description         5                  string         \n",
      "3   level_references          5                  array<string>  \n",
      "\n",
      "\n",
      "\n",
      "Total entries: 5\n",
      "Data columns (total 4 columns):\n",
      "#   Column                    Non-Null Count     Dtype          \n",
      "--- ------------------------- ------------------ ---------------\n",
      "0   level_name                5                  string         \n",
      "1   level_scale               5                  int            \n",
      "2   level_description         5                  string         \n",
      "3   level_references          5                  array<string>  \n",
      "\n",
      "\n"
     ]
    }
   ],
   "source": [
    "df_education_levels = spark.createDataFrame(\n",
    "    data=[\n",
    "        (\"High School\", 1, \"Completion of high school or equivalent\", \n",
    "            [\n",
    "                \"high school\", \"ged\", \"secondary\", \"college\", \"diploma\"\n",
    "            ]\n",
    "        ),\n",
    "        (\"Associate's Degree\", 2, \"Completion of a two-year degree program or certificate\", \n",
    "            [\n",
    "                \"associate's\", \"a.a\", \"a.s\", \"a.a.s\", \"certificate\"\n",
    "            ]\n",
    "        ),\n",
    "        (\"Bachelor's Degree\", 3, \"Completion of a undergraduate degree program\", \n",
    "            [\n",
    "                \"bachelor\", \"bachelor's degree\", \"bachelor's in\", \"undergraduate degree\",\n",
    "                \"ba\", \"bs\", \"bsc\", \"bba\", \"beng\"\n",
    "                \n",
    "            ]\n",
    "        ),\n",
    "        (\"Master's Degree\", 4, \"Completion of a postgraduate degree program\", \n",
    "            [\n",
    "                \"master\", \"master's degree\", \"master's in\", \"postgraduate degree\",\n",
    "                \"ma\", \"ms\", \"msc\", \"mba\", \"m.eng\"\n",
    "            ]\n",
    "        ),\n",
    "        (\"Doctorate\", 5, \"Completion of a doctoral degree program\", \n",
    "            [\n",
    "                \"phd\", \"md\", \"jd\", \"doctor\", \"doctorate\", \"doctorate degree\", \"doctoral degree\"\n",
    "            ]\n",
    "        )\n",
    "    ],\n",
    "    schema=T.StructType([\n",
    "        T.StructField('level_name', T.StringType(), False),\n",
    "        T.StructField('level_scale', T.IntegerType(), False),\n",
    "        T.StructField('level_description', T.StringType(), True),\n",
    "        T.StructField('level_references', T.ArrayType(T.StringType()), True)\n",
    "    ])\n",
    ")\n",
    "\n",
    "df_education_levels.show(5, truncate=False)\n",
    "pyspark_df_info(df_education_levels)\n",
    "# Save as Parquet instead of CSV\n",
    "df_education_levels.write.mode('overwrite').parquet('data/education_level_synonyms_simplified.parquet')\n",
    "\n",
    "# Read back from Parquet (preserves schema and array types)\n",
    "df_education_levels = spark.read.parquet('data/education_level_synonyms_simplified.parquet')\n",
    "pyspark_df_info(df_education_levels)"
   ]
  },
  {
   "cell_type": "code",
   "execution_count": null,
   "id": "047383c1",
   "metadata": {},
   "outputs": [
    {
     "name": "stdout",
     "output_type": "stream",
     "text": [
      "Broadcasted education levels: 5\n",
      "Broadcasted education levels sample: \n",
      "[Row(level_name=\"Associate's Degree\", level_scale=2, level_description='Completion of a two-year degree program or certificate', level_references=[\"associate's\", 'a.a', 'a.s', 'a.a.s', 'certificate']), Row(level_name=\"Bachelor's Degree\", level_scale=3, level_description='Completion of a undergraduate degree program', level_references=['bachelor', \"bachelor's degree\", \"bachelor's in\", 'undergraduate degree'])]\n"
     ]
    }
   ],
   "source": [
    "education_levels_list = spark.read.parquet('data/education_level_synonyms_simplified.parquet').collect()\n",
    "broadcasted_education_levels = spark.sparkContext.broadcast(education_levels_list)\n",
    "\n",
    "print(f\"Broadcasted education levels: {len(broadcasted_education_levels.value)}\")\n",
    "print(f\"Broadcasted education levels sample: \\n{broadcasted_education_levels.value[:2]}\")"
   ]
  },
  {
   "cell_type": "code",
   "execution_count": null,
   "id": "0f327a70",
   "metadata": {},
   "outputs": [
    {
     "name": "stdout",
     "output_type": "stream",
     "text": [
      "+-----------+------------------------+-------------+------------+----------------------------------------------------------------------------------------------------------------------------------------+---------------+\n",
      "|job_id     |_id                     |snapshot_date|job_snapshot|required_education                                                                                                                      |education_level|\n",
      "+-----------+------------------------+-------------+------------+----------------------------------------------------------------------------------------------------------------------------------------+---------------+\n",
      "|JD_Z7yf1tu6|684547e670634603a66d8deb|2021-07-24   |2021-07-24  |Bachelor's degree in computer science or a related discipline required. Master's degree preferred.                                      |3              |\n",
      "|JD_RrDNNvMz|684547f470634603a66d8df4|2021-07-13   |2021-07-13  |Bachelor's degree in Business Administration, Information Technology, or a related field                                                |3              |\n",
      "|JD_7rYoKTcb|684547fc70634603a66d8df9|2021-07-28   |2021-07-28  |bachelor's degree                                                                                                                       |3              |\n",
      "|JD_AAwaK8NY|6845480970634603a66d8e01|2021-07-17   |2021-07-17  |Bachelors degree in accounting or finance (concentration in Accounting) preferred.                                                      |3              |\n",
      "|JD_ZZpNAyeK|6845482370634603a66d8e12|2021-07-16   |2021-07-16  |BS Degree in computer science or related STEM field                                                                                     |3              |\n",
      "|JD_kL06mNvW|6845483870634603a66d8e1f|2021-07-15   |2021-07-15  |Bachelor's degree or equivalent combination of education and experience (e.g., Master's + 1 year, or 7 years of related work experience)|3              |\n",
      "|JD_gLmc70sy|6845483f70634603a66d8e24|2021-07-04   |2021-07-04  |Bachelor's degree in Computer Science, Engineering, or a related field                                                                  |3              |\n",
      "|JD_WEgsEJYj|6845485370634603a66d8e31|2021-07-11   |2021-07-11  |B.S. in Computer Science or related field                                                                                               |3              |\n",
      "|JD_fqhdZazg|6845486f70634603a66d8e43|2021-07-18   |2021-07-18  |BS/MS degree in Computer Science, Software Engineering, or related field                                                                |3              |\n",
      "|JD_oG0yCZhW|6845487070634603a66d8e44|2021-07-02   |2021-07-02  |Bachelor's degree or equivalent experience                                                                                              |3              |\n",
      "+-----------+------------------------+-------------+------------+----------------------------------------------------------------------------------------------------------------------------------------+---------------+\n",
      "only showing top 10 rows\n",
      "\n",
      "\n",
      "Total entries: 4378\n",
      "Data columns (total 6 columns):\n",
      "#   Column                    Non-Null Count     Dtype          \n",
      "--- ------------------------- ------------------ ---------------\n",
      "0   job_id                    4378               string         \n",
      "1   _id                       4378               string         \n",
      "2   snapshot_date             4378               date           \n",
      "3   job_snapshot              4378               date           \n",
      "4   required_education        4378               string         \n",
      "5   education_level           4378               int            \n",
      "\n",
      "\n"
     ]
    }
   ],
   "source": [
    "# Using rapidfuzz for fuzzy matching\n",
    "from rapidfuzz import fuzz, process\n",
    "\n",
    "# Collect and broadcast the education levels data\n",
    "education_levels_list = spark.read.parquet('data/education_level_synonyms_simplified.parquet').collect()\n",
    "broadcasted_education_levels = spark.sparkContext.broadcast(education_levels_list)\n",
    "\n",
    "# For each entry in df_education, determine the education level by trying to match the required_education field with the level_references\n",
    "def determine_education_level(education_input: str) -> int:\n",
    "    if education_input is None:\n",
    "        return None\n",
    "\n",
    "    best_score = 0\n",
    "    best_match_level = 0\n",
    "    # Use rapidfuzz to find the best match\n",
    "    for row in broadcasted_education_levels.value:\n",
    "        match_result = process.extractOne(education_input.lower(), row.level_references, scorer=fuzz.partial_token_set_ratio)\n",
    "        if match_result and match_result[1] > best_score:\n",
    "            best_score, best_match_level = match_result[1], row.level_scale\n",
    "\n",
    "    return best_match_level\n",
    "\n",
    "\n",
    "# iterate through the DataFrame and apply the function\n",
    "df_education = df_education.withColumn(\n",
    "    'education_level',\n",
    "    F.udf(determine_education_level, T.IntegerType())(F.col('required_education'))\n",
    ")\n",
    "df_education.show(10, truncate=False)\n",
    "pyspark_df_info(df_education)"
   ]
  },
  {
   "cell_type": "code",
   "execution_count": 23,
   "id": "3f5d7e76",
   "metadata": {},
   "outputs": [
    {
     "name": "stdout",
     "output_type": "stream",
     "text": [
      "Count for education level 1: 78\n",
      "Count for education level 2: 30\n",
      "Count for education level 3: 3639\n",
      "Count for education level 4: 348\n",
      "Count for education level 3: 3639\n",
      "Count for education level 4: 348\n",
      "Count for education level 5: 283\n",
      "Count for education level 5: 283\n"
     ]
    }
   ],
   "source": [
    "for l in range(1, 6):\n",
    "    c = df_education.filter(F.col('education_level') == l).count()\n",
    "    print(f\"Count for education level {l}: {c}\")\n"
   ]
  },
  {
   "cell_type": "code",
   "execution_count": null,
   "id": "853b6968",
   "metadata": {},
   "outputs": [],
   "source": []
  }
 ],
 "metadata": {
  "kernelspec": {
   "display_name": "jobmirror_env",
   "language": "python",
   "name": "python3"
  },
  "language_info": {
   "codemirror_mode": {
    "name": "ipython",
    "version": 3
   },
   "file_extension": ".py",
   "mimetype": "text/x-python",
   "name": "python",
   "nbconvert_exporter": "python",
   "pygments_lexer": "ipython3",
   "version": "3.12.10"
  }
 },
 "nbformat": 4,
 "nbformat_minor": 5
}
